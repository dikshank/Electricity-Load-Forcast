{
  "nbformat": 4,
  "nbformat_minor": 0,
  "metadata": {
    "colab": {
      "provenance": [],
      "mount_file_id": "1u2f27Xdt0bsZ5WB5FaJMS4vAgb07nJOC",
      "authorship_tag": "ABX9TyMpcgGX/NTjqqrVVF/rL0FY",
      "include_colab_link": true
    },
    "kernelspec": {
      "name": "python3",
      "display_name": "Python 3"
    },
    "language_info": {
      "name": "python"
    }
  },
  "cells": [
    {
      "cell_type": "markdown",
      "metadata": {
        "id": "view-in-github",
        "colab_type": "text"
      },
      "source": [
        "<a href=\"https://colab.research.google.com/github/dikshank/Electricity-Load-Forcast/blob/main/Electricity_Load_Forcast.ipynb\" target=\"_parent\"><img src=\"https://colab.research.google.com/assets/colab-badge.svg\" alt=\"Open In Colab\"/></a>"
      ]
    },
    {
      "cell_type": "code",
      "source": [
        "cd /content/drive/MyDrive"
      ],
      "metadata": {
        "colab": {
          "base_uri": "https://localhost:8080/"
        },
        "id": "XcdXl1jGqImh",
        "outputId": "c634e1d7-f9ee-4245-8c9e-a11a35e2e02a"
      },
      "execution_count": null,
      "outputs": [
        {
          "output_type": "stream",
          "name": "stdout",
          "text": [
            "/content/drive/MyDrive\n"
          ]
        }
      ]
    },
    {
      "cell_type": "code",
      "source": [
        "!mkdir NLP_PROJECTS"
      ],
      "metadata": {
        "id": "XCZ8aTywqYC-"
      },
      "execution_count": null,
      "outputs": []
    },
    {
      "cell_type": "code",
      "source": [
        "pwd"
      ],
      "metadata": {
        "colab": {
          "base_uri": "https://localhost:8080/",
          "height": 36
        },
        "id": "FizAwtR0qcO4",
        "outputId": "82d6ee2c-b4a6-4145-d518-43b7e0036625"
      },
      "execution_count": null,
      "outputs": [
        {
          "output_type": "execute_result",
          "data": {
            "text/plain": [
              "'/content/drive/MyDrive'"
            ],
            "application/vnd.google.colaboratory.intrinsic+json": {
              "type": "string"
            }
          },
          "metadata": {},
          "execution_count": 3
        }
      ]
    },
    {
      "cell_type": "code",
      "source": [
        "cd '/content/drive/MyDrive/NLP_PROJECTS'"
      ],
      "metadata": {
        "colab": {
          "base_uri": "https://localhost:8080/"
        },
        "id": "ckz3Lh_BqeCl",
        "outputId": "a5479528-8c57-4cf8-dfaa-eeabd11117e9"
      },
      "execution_count": null,
      "outputs": [
        {
          "output_type": "stream",
          "name": "stdout",
          "text": [
            "/content/drive/MyDrive/NLP_PROJECTS\n"
          ]
        }
      ]
    },
    {
      "cell_type": "code",
      "source": [
        "!mkdir Electricity_Load_Forcast"
      ],
      "metadata": {
        "id": "mihti15NqjrB"
      },
      "execution_count": null,
      "outputs": []
    },
    {
      "cell_type": "code",
      "source": [
        "pwd"
      ],
      "metadata": {
        "colab": {
          "base_uri": "https://localhost:8080/",
          "height": 36
        },
        "id": "oyiyt57mqsHp",
        "outputId": "0f0f8c5b-9846-4b73-e6b6-c3b74adf439a"
      },
      "execution_count": null,
      "outputs": [
        {
          "output_type": "execute_result",
          "data": {
            "text/plain": [
              "'/content/drive/MyDrive/NLP_PROJECTS'"
            ],
            "application/vnd.google.colaboratory.intrinsic+json": {
              "type": "string"
            }
          },
          "metadata": {},
          "execution_count": 6
        }
      ]
    },
    {
      "cell_type": "code",
      "source": [
        "cd '/content/drive/MyDrive/NLP_PROJECTS/Electricity_Load_Forcast'"
      ],
      "metadata": {
        "colab": {
          "base_uri": "https://localhost:8080/"
        },
        "id": "oizzMzhGqtmD",
        "outputId": "48e11459-9939-415a-8a38-ca26e513d6f6"
      },
      "execution_count": null,
      "outputs": [
        {
          "output_type": "stream",
          "name": "stdout",
          "text": [
            "/content/drive/MyDrive/NLP_PROJECTS/Electricity_Load_Forcast\n"
          ]
        }
      ]
    },
    {
      "cell_type": "code",
      "execution_count": null,
      "metadata": {
        "colab": {
          "base_uri": "https://localhost:8080/"
        },
        "id": "vFtCGx60qBGX",
        "outputId": "b0a77957-e643-44ac-913a-b4726773899b"
      },
      "outputs": [
        {
          "output_type": "stream",
          "name": "stdout",
          "text": [
            "Cloning into 'Electricity-Load-Forecasting'...\n",
            "remote: Enumerating objects: 8, done.\u001b[K\n",
            "remote: Counting objects: 100% (8/8), done.\u001b[K\n",
            "remote: Compressing objects: 100% (7/7), done.\u001b[K\n",
            "remote: Total 8 (delta 1), reused 8 (delta 1), pack-reused 0\u001b[K\n",
            "Unpacking objects: 100% (8/8), done.\n"
          ]
        }
      ],
      "source": [
        "!git clone https://github.com/aimlrl/Electricity-Load-Forecasting.git"
      ]
    },
    {
      "cell_type": "code",
      "source": [
        "#importing libraries\n",
        "import numpy as np\n",
        "import pandas as pd\n",
        "from keras.models import Sequential\n",
        "from keras.layers import LSTM\n",
        "from keras.layers import Dense\n",
        "from keras.layers import Dropout\n",
        "import matplotlib.pyplot as plt\n",
        "from sklearn.preprocessing import MinMaxScaler, StandardScaler\n",
        "import seaborn as sns"
      ],
      "metadata": {
        "id": "KZ4T_SITq32B"
      },
      "execution_count": null,
      "outputs": []
    },
    {
      "cell_type": "code",
      "source": [
        "data = pd.read_csv('/content/drive/MyDrive/NLP_PROJECTS/Electricity_Load_Forcast/Electricity-Load-Forecasting/assignment-data.csv')"
      ],
      "metadata": {
        "id": "EOfXjxYor7qc"
      },
      "execution_count": null,
      "outputs": []
    },
    {
      "cell_type": "code",
      "source": [
        "data.head()"
      ],
      "metadata": {
        "colab": {
          "base_uri": "https://localhost:8080/",
          "height": 206
        },
        "id": "K3h7BnkBsEG3",
        "outputId": "a3b219ad-72b4-4950-9b9f-01c9a0c4999f"
      },
      "execution_count": null,
      "outputs": [
        {
          "output_type": "execute_result",
          "data": {
            "text/plain": [
              "   Unnamed: 0             datetime       load  apparent_temperature  \\\n",
              "0           0  2018-01-01 00:00:00  803.22270              10.45800   \n",
              "1           1  2018-01-01 00:15:00  774.89523              10.32675   \n",
              "2           2  2018-01-01 00:30:00  731.46927              10.19550   \n",
              "3           3  2018-01-01 00:45:00  713.93870              10.06425   \n",
              "4           4  2018-01-01 01:00:00  699.23007               9.93300   \n",
              "\n",
              "   temperature  humidity  dew_point  wind_speed  cloud_cover        date  \n",
              "0     10.45800  0.955500   8.946000         0.0          0.0  2018-01-01  \n",
              "1     10.32675  0.961625   8.911875         0.0          0.0  2018-01-01  \n",
              "2     10.19550  0.967750   8.877750         0.0          0.0  2018-01-01  \n",
              "3     10.06425  0.973875   8.843625         0.0          0.0  2018-01-01  \n",
              "4      9.93300  0.980000   8.809500         0.0          0.0  2018-01-01  "
            ],
            "text/html": [
              "\n",
              "  <div id=\"df-feef83aa-94dd-4e31-a7bf-f16261adf120\">\n",
              "    <div class=\"colab-df-container\">\n",
              "      <div>\n",
              "<style scoped>\n",
              "    .dataframe tbody tr th:only-of-type {\n",
              "        vertical-align: middle;\n",
              "    }\n",
              "\n",
              "    .dataframe tbody tr th {\n",
              "        vertical-align: top;\n",
              "    }\n",
              "\n",
              "    .dataframe thead th {\n",
              "        text-align: right;\n",
              "    }\n",
              "</style>\n",
              "<table border=\"1\" class=\"dataframe\">\n",
              "  <thead>\n",
              "    <tr style=\"text-align: right;\">\n",
              "      <th></th>\n",
              "      <th>Unnamed: 0</th>\n",
              "      <th>datetime</th>\n",
              "      <th>load</th>\n",
              "      <th>apparent_temperature</th>\n",
              "      <th>temperature</th>\n",
              "      <th>humidity</th>\n",
              "      <th>dew_point</th>\n",
              "      <th>wind_speed</th>\n",
              "      <th>cloud_cover</th>\n",
              "      <th>date</th>\n",
              "    </tr>\n",
              "  </thead>\n",
              "  <tbody>\n",
              "    <tr>\n",
              "      <th>0</th>\n",
              "      <td>0</td>\n",
              "      <td>2018-01-01 00:00:00</td>\n",
              "      <td>803.22270</td>\n",
              "      <td>10.45800</td>\n",
              "      <td>10.45800</td>\n",
              "      <td>0.955500</td>\n",
              "      <td>8.946000</td>\n",
              "      <td>0.0</td>\n",
              "      <td>0.0</td>\n",
              "      <td>2018-01-01</td>\n",
              "    </tr>\n",
              "    <tr>\n",
              "      <th>1</th>\n",
              "      <td>1</td>\n",
              "      <td>2018-01-01 00:15:00</td>\n",
              "      <td>774.89523</td>\n",
              "      <td>10.32675</td>\n",
              "      <td>10.32675</td>\n",
              "      <td>0.961625</td>\n",
              "      <td>8.911875</td>\n",
              "      <td>0.0</td>\n",
              "      <td>0.0</td>\n",
              "      <td>2018-01-01</td>\n",
              "    </tr>\n",
              "    <tr>\n",
              "      <th>2</th>\n",
              "      <td>2</td>\n",
              "      <td>2018-01-01 00:30:00</td>\n",
              "      <td>731.46927</td>\n",
              "      <td>10.19550</td>\n",
              "      <td>10.19550</td>\n",
              "      <td>0.967750</td>\n",
              "      <td>8.877750</td>\n",
              "      <td>0.0</td>\n",
              "      <td>0.0</td>\n",
              "      <td>2018-01-01</td>\n",
              "    </tr>\n",
              "    <tr>\n",
              "      <th>3</th>\n",
              "      <td>3</td>\n",
              "      <td>2018-01-01 00:45:00</td>\n",
              "      <td>713.93870</td>\n",
              "      <td>10.06425</td>\n",
              "      <td>10.06425</td>\n",
              "      <td>0.973875</td>\n",
              "      <td>8.843625</td>\n",
              "      <td>0.0</td>\n",
              "      <td>0.0</td>\n",
              "      <td>2018-01-01</td>\n",
              "    </tr>\n",
              "    <tr>\n",
              "      <th>4</th>\n",
              "      <td>4</td>\n",
              "      <td>2018-01-01 01:00:00</td>\n",
              "      <td>699.23007</td>\n",
              "      <td>9.93300</td>\n",
              "      <td>9.93300</td>\n",
              "      <td>0.980000</td>\n",
              "      <td>8.809500</td>\n",
              "      <td>0.0</td>\n",
              "      <td>0.0</td>\n",
              "      <td>2018-01-01</td>\n",
              "    </tr>\n",
              "  </tbody>\n",
              "</table>\n",
              "</div>\n",
              "      <button class=\"colab-df-convert\" onclick=\"convertToInteractive('df-feef83aa-94dd-4e31-a7bf-f16261adf120')\"\n",
              "              title=\"Convert this dataframe to an interactive table.\"\n",
              "              style=\"display:none;\">\n",
              "        \n",
              "  <svg xmlns=\"http://www.w3.org/2000/svg\" height=\"24px\"viewBox=\"0 0 24 24\"\n",
              "       width=\"24px\">\n",
              "    <path d=\"M0 0h24v24H0V0z\" fill=\"none\"/>\n",
              "    <path d=\"M18.56 5.44l.94 2.06.94-2.06 2.06-.94-2.06-.94-.94-2.06-.94 2.06-2.06.94zm-11 1L8.5 8.5l.94-2.06 2.06-.94-2.06-.94L8.5 2.5l-.94 2.06-2.06.94zm10 10l.94 2.06.94-2.06 2.06-.94-2.06-.94-.94-2.06-.94 2.06-2.06.94z\"/><path d=\"M17.41 7.96l-1.37-1.37c-.4-.4-.92-.59-1.43-.59-.52 0-1.04.2-1.43.59L10.3 9.45l-7.72 7.72c-.78.78-.78 2.05 0 2.83L4 21.41c.39.39.9.59 1.41.59.51 0 1.02-.2 1.41-.59l7.78-7.78 2.81-2.81c.8-.78.8-2.07 0-2.86zM5.41 20L4 18.59l7.72-7.72 1.47 1.35L5.41 20z\"/>\n",
              "  </svg>\n",
              "      </button>\n",
              "      \n",
              "  <style>\n",
              "    .colab-df-container {\n",
              "      display:flex;\n",
              "      flex-wrap:wrap;\n",
              "      gap: 12px;\n",
              "    }\n",
              "\n",
              "    .colab-df-convert {\n",
              "      background-color: #E8F0FE;\n",
              "      border: none;\n",
              "      border-radius: 50%;\n",
              "      cursor: pointer;\n",
              "      display: none;\n",
              "      fill: #1967D2;\n",
              "      height: 32px;\n",
              "      padding: 0 0 0 0;\n",
              "      width: 32px;\n",
              "    }\n",
              "\n",
              "    .colab-df-convert:hover {\n",
              "      background-color: #E2EBFA;\n",
              "      box-shadow: 0px 1px 2px rgba(60, 64, 67, 0.3), 0px 1px 3px 1px rgba(60, 64, 67, 0.15);\n",
              "      fill: #174EA6;\n",
              "    }\n",
              "\n",
              "    [theme=dark] .colab-df-convert {\n",
              "      background-color: #3B4455;\n",
              "      fill: #D2E3FC;\n",
              "    }\n",
              "\n",
              "    [theme=dark] .colab-df-convert:hover {\n",
              "      background-color: #434B5C;\n",
              "      box-shadow: 0px 1px 3px 1px rgba(0, 0, 0, 0.15);\n",
              "      filter: drop-shadow(0px 1px 2px rgba(0, 0, 0, 0.3));\n",
              "      fill: #FFFFFF;\n",
              "    }\n",
              "  </style>\n",
              "\n",
              "      <script>\n",
              "        const buttonEl =\n",
              "          document.querySelector('#df-feef83aa-94dd-4e31-a7bf-f16261adf120 button.colab-df-convert');\n",
              "        buttonEl.style.display =\n",
              "          google.colab.kernel.accessAllowed ? 'block' : 'none';\n",
              "\n",
              "        async function convertToInteractive(key) {\n",
              "          const element = document.querySelector('#df-feef83aa-94dd-4e31-a7bf-f16261adf120');\n",
              "          const dataTable =\n",
              "            await google.colab.kernel.invokeFunction('convertToInteractive',\n",
              "                                                     [key], {});\n",
              "          if (!dataTable) return;\n",
              "\n",
              "          const docLinkHtml = 'Like what you see? Visit the ' +\n",
              "            '<a target=\"_blank\" href=https://colab.research.google.com/notebooks/data_table.ipynb>data table notebook</a>'\n",
              "            + ' to learn more about interactive tables.';\n",
              "          element.innerHTML = '';\n",
              "          dataTable['output_type'] = 'display_data';\n",
              "          await google.colab.output.renderOutput(dataTable, element);\n",
              "          const docLink = document.createElement('div');\n",
              "          docLink.innerHTML = docLinkHtml;\n",
              "          element.appendChild(docLink);\n",
              "        }\n",
              "      </script>\n",
              "    </div>\n",
              "  </div>\n",
              "  "
            ]
          },
          "metadata": {},
          "execution_count": 3
        }
      ]
    },
    {
      "cell_type": "code",
      "source": [
        "data.shape"
      ],
      "metadata": {
        "colab": {
          "base_uri": "https://localhost:8080/"
        },
        "id": "3tCv83_CsGXt",
        "outputId": "ceffdc8f-d64e-4828-f328-0acd86688d22"
      },
      "execution_count": null,
      "outputs": [
        {
          "output_type": "execute_result",
          "data": {
            "text/plain": [
              "(103392, 10)"
            ]
          },
          "metadata": {},
          "execution_count": 4
        }
      ]
    },
    {
      "cell_type": "code",
      "source": [
        "#method 1 of comparing two pandas columns \n",
        "data['apparent_temperature'].equals(data['temperature'])"
      ],
      "metadata": {
        "colab": {
          "base_uri": "https://localhost:8080/"
        },
        "id": "DU53rBFcsKe5",
        "outputId": "aba5c21e-5b3c-47f0-9a7f-30e5a8277ebf"
      },
      "execution_count": null,
      "outputs": [
        {
          "output_type": "execute_result",
          "data": {
            "text/plain": [
              "False"
            ]
          },
          "metadata": {},
          "execution_count": 5
        }
      ]
    },
    {
      "cell_type": "code",
      "source": [
        "#method 2 of comparing two pandas columns \n",
        "df = np.where((data['apparent_temperature'] != data['temperature']))"
      ],
      "metadata": {
        "id": "uCuNt466soDL"
      },
      "execution_count": null,
      "outputs": []
    },
    {
      "cell_type": "code",
      "source": [
        "len(df[0])"
      ],
      "metadata": {
        "colab": {
          "base_uri": "https://localhost:8080/"
        },
        "id": "eDR-Hj07tf4T",
        "outputId": "ad90196a-8e8b-4ef9-f47b-f243f40b8a86"
      },
      "execution_count": null,
      "outputs": [
        {
          "output_type": "execute_result",
          "data": {
            "text/plain": [
              "51828"
            ]
          },
          "metadata": {},
          "execution_count": 7
        }
      ]
    },
    {
      "cell_type": "code",
      "source": [
        "51564+51828"
      ],
      "metadata": {
        "colab": {
          "base_uri": "https://localhost:8080/"
        },
        "id": "w_twa9NrttpT",
        "outputId": "f54e28db-de8f-41ea-ce59-4035f1db881c"
      },
      "execution_count": null,
      "outputs": [
        {
          "output_type": "execute_result",
          "data": {
            "text/plain": [
              "103392"
            ]
          },
          "metadata": {},
          "execution_count": 8
        }
      ]
    },
    {
      "cell_type": "code",
      "source": [
        "data.tail()"
      ],
      "metadata": {
        "colab": {
          "base_uri": "https://localhost:8080/",
          "height": 206
        },
        "id": "wyzRRu9NuEcl",
        "outputId": "813f8228-b826-4ffb-ea58-3b9fb9f3ad71"
      },
      "execution_count": null,
      "outputs": [
        {
          "output_type": "execute_result",
          "data": {
            "text/plain": [
              "        Unnamed: 0             datetime    load  apparent_temperature  \\\n",
              "103387      103387  2020-12-12 22:45:00  858.50              17.79750   \n",
              "103388      103388  2020-12-12 23:00:00  832.24              17.66100   \n",
              "103389      103389  2020-12-12 23:15:00  804.97              17.46675   \n",
              "103390      103390  2020-12-12 23:30:00  763.56              17.27250   \n",
              "103391      103391  2020-12-12 23:45:00  734.27              17.07825   \n",
              "\n",
              "        temperature  humidity  dew_point  wind_speed  cloud_cover        date  \n",
              "103387     17.79750  0.756000    12.4005    1.950375      0.16275  2020-12-12  \n",
              "103388     17.66100  0.756000    12.2640    2.047500      0.14700  2020-12-12  \n",
              "103389     17.46675  0.758625    12.1275    2.144625      0.11550  2020-12-12  \n",
              "103390     17.27250  0.761250    11.9910    2.241750      0.08400  2020-12-12  \n",
              "103391     17.07825  0.763875    11.8545    2.338875      0.05250  2020-12-12  "
            ],
            "text/html": [
              "\n",
              "  <div id=\"df-5b5c478d-c4b7-4266-80d3-a6d6db5c8e54\">\n",
              "    <div class=\"colab-df-container\">\n",
              "      <div>\n",
              "<style scoped>\n",
              "    .dataframe tbody tr th:only-of-type {\n",
              "        vertical-align: middle;\n",
              "    }\n",
              "\n",
              "    .dataframe tbody tr th {\n",
              "        vertical-align: top;\n",
              "    }\n",
              "\n",
              "    .dataframe thead th {\n",
              "        text-align: right;\n",
              "    }\n",
              "</style>\n",
              "<table border=\"1\" class=\"dataframe\">\n",
              "  <thead>\n",
              "    <tr style=\"text-align: right;\">\n",
              "      <th></th>\n",
              "      <th>Unnamed: 0</th>\n",
              "      <th>datetime</th>\n",
              "      <th>load</th>\n",
              "      <th>apparent_temperature</th>\n",
              "      <th>temperature</th>\n",
              "      <th>humidity</th>\n",
              "      <th>dew_point</th>\n",
              "      <th>wind_speed</th>\n",
              "      <th>cloud_cover</th>\n",
              "      <th>date</th>\n",
              "    </tr>\n",
              "  </thead>\n",
              "  <tbody>\n",
              "    <tr>\n",
              "      <th>103387</th>\n",
              "      <td>103387</td>\n",
              "      <td>2020-12-12 22:45:00</td>\n",
              "      <td>858.50</td>\n",
              "      <td>17.79750</td>\n",
              "      <td>17.79750</td>\n",
              "      <td>0.756000</td>\n",
              "      <td>12.4005</td>\n",
              "      <td>1.950375</td>\n",
              "      <td>0.16275</td>\n",
              "      <td>2020-12-12</td>\n",
              "    </tr>\n",
              "    <tr>\n",
              "      <th>103388</th>\n",
              "      <td>103388</td>\n",
              "      <td>2020-12-12 23:00:00</td>\n",
              "      <td>832.24</td>\n",
              "      <td>17.66100</td>\n",
              "      <td>17.66100</td>\n",
              "      <td>0.756000</td>\n",
              "      <td>12.2640</td>\n",
              "      <td>2.047500</td>\n",
              "      <td>0.14700</td>\n",
              "      <td>2020-12-12</td>\n",
              "    </tr>\n",
              "    <tr>\n",
              "      <th>103389</th>\n",
              "      <td>103389</td>\n",
              "      <td>2020-12-12 23:15:00</td>\n",
              "      <td>804.97</td>\n",
              "      <td>17.46675</td>\n",
              "      <td>17.46675</td>\n",
              "      <td>0.758625</td>\n",
              "      <td>12.1275</td>\n",
              "      <td>2.144625</td>\n",
              "      <td>0.11550</td>\n",
              "      <td>2020-12-12</td>\n",
              "    </tr>\n",
              "    <tr>\n",
              "      <th>103390</th>\n",
              "      <td>103390</td>\n",
              "      <td>2020-12-12 23:30:00</td>\n",
              "      <td>763.56</td>\n",
              "      <td>17.27250</td>\n",
              "      <td>17.27250</td>\n",
              "      <td>0.761250</td>\n",
              "      <td>11.9910</td>\n",
              "      <td>2.241750</td>\n",
              "      <td>0.08400</td>\n",
              "      <td>2020-12-12</td>\n",
              "    </tr>\n",
              "    <tr>\n",
              "      <th>103391</th>\n",
              "      <td>103391</td>\n",
              "      <td>2020-12-12 23:45:00</td>\n",
              "      <td>734.27</td>\n",
              "      <td>17.07825</td>\n",
              "      <td>17.07825</td>\n",
              "      <td>0.763875</td>\n",
              "      <td>11.8545</td>\n",
              "      <td>2.338875</td>\n",
              "      <td>0.05250</td>\n",
              "      <td>2020-12-12</td>\n",
              "    </tr>\n",
              "  </tbody>\n",
              "</table>\n",
              "</div>\n",
              "      <button class=\"colab-df-convert\" onclick=\"convertToInteractive('df-5b5c478d-c4b7-4266-80d3-a6d6db5c8e54')\"\n",
              "              title=\"Convert this dataframe to an interactive table.\"\n",
              "              style=\"display:none;\">\n",
              "        \n",
              "  <svg xmlns=\"http://www.w3.org/2000/svg\" height=\"24px\"viewBox=\"0 0 24 24\"\n",
              "       width=\"24px\">\n",
              "    <path d=\"M0 0h24v24H0V0z\" fill=\"none\"/>\n",
              "    <path d=\"M18.56 5.44l.94 2.06.94-2.06 2.06-.94-2.06-.94-.94-2.06-.94 2.06-2.06.94zm-11 1L8.5 8.5l.94-2.06 2.06-.94-2.06-.94L8.5 2.5l-.94 2.06-2.06.94zm10 10l.94 2.06.94-2.06 2.06-.94-2.06-.94-.94-2.06-.94 2.06-2.06.94z\"/><path d=\"M17.41 7.96l-1.37-1.37c-.4-.4-.92-.59-1.43-.59-.52 0-1.04.2-1.43.59L10.3 9.45l-7.72 7.72c-.78.78-.78 2.05 0 2.83L4 21.41c.39.39.9.59 1.41.59.51 0 1.02-.2 1.41-.59l7.78-7.78 2.81-2.81c.8-.78.8-2.07 0-2.86zM5.41 20L4 18.59l7.72-7.72 1.47 1.35L5.41 20z\"/>\n",
              "  </svg>\n",
              "      </button>\n",
              "      \n",
              "  <style>\n",
              "    .colab-df-container {\n",
              "      display:flex;\n",
              "      flex-wrap:wrap;\n",
              "      gap: 12px;\n",
              "    }\n",
              "\n",
              "    .colab-df-convert {\n",
              "      background-color: #E8F0FE;\n",
              "      border: none;\n",
              "      border-radius: 50%;\n",
              "      cursor: pointer;\n",
              "      display: none;\n",
              "      fill: #1967D2;\n",
              "      height: 32px;\n",
              "      padding: 0 0 0 0;\n",
              "      width: 32px;\n",
              "    }\n",
              "\n",
              "    .colab-df-convert:hover {\n",
              "      background-color: #E2EBFA;\n",
              "      box-shadow: 0px 1px 2px rgba(60, 64, 67, 0.3), 0px 1px 3px 1px rgba(60, 64, 67, 0.15);\n",
              "      fill: #174EA6;\n",
              "    }\n",
              "\n",
              "    [theme=dark] .colab-df-convert {\n",
              "      background-color: #3B4455;\n",
              "      fill: #D2E3FC;\n",
              "    }\n",
              "\n",
              "    [theme=dark] .colab-df-convert:hover {\n",
              "      background-color: #434B5C;\n",
              "      box-shadow: 0px 1px 3px 1px rgba(0, 0, 0, 0.15);\n",
              "      filter: drop-shadow(0px 1px 2px rgba(0, 0, 0, 0.3));\n",
              "      fill: #FFFFFF;\n",
              "    }\n",
              "  </style>\n",
              "\n",
              "      <script>\n",
              "        const buttonEl =\n",
              "          document.querySelector('#df-5b5c478d-c4b7-4266-80d3-a6d6db5c8e54 button.colab-df-convert');\n",
              "        buttonEl.style.display =\n",
              "          google.colab.kernel.accessAllowed ? 'block' : 'none';\n",
              "\n",
              "        async function convertToInteractive(key) {\n",
              "          const element = document.querySelector('#df-5b5c478d-c4b7-4266-80d3-a6d6db5c8e54');\n",
              "          const dataTable =\n",
              "            await google.colab.kernel.invokeFunction('convertToInteractive',\n",
              "                                                     [key], {});\n",
              "          if (!dataTable) return;\n",
              "\n",
              "          const docLinkHtml = 'Like what you see? Visit the ' +\n",
              "            '<a target=\"_blank\" href=https://colab.research.google.com/notebooks/data_table.ipynb>data table notebook</a>'\n",
              "            + ' to learn more about interactive tables.';\n",
              "          element.innerHTML = '';\n",
              "          dataTable['output_type'] = 'display_data';\n",
              "          await google.colab.output.renderOutput(dataTable, element);\n",
              "          const docLink = document.createElement('div');\n",
              "          docLink.innerHTML = docLinkHtml;\n",
              "          element.appendChild(docLink);\n",
              "        }\n",
              "      </script>\n",
              "    </div>\n",
              "  </div>\n",
              "  "
            ]
          },
          "metadata": {},
          "execution_count": 9
        }
      ]
    },
    {
      "cell_type": "code",
      "source": [
        "#dropping unnecessary columns \n",
        "data.drop(['Unnamed: 0', 'date'], axis = 1, inplace  = True)"
      ],
      "metadata": {
        "id": "iJdpCsx8uPi9"
      },
      "execution_count": null,
      "outputs": []
    },
    {
      "cell_type": "code",
      "source": [
        "data.head()"
      ],
      "metadata": {
        "colab": {
          "base_uri": "https://localhost:8080/",
          "height": 206
        },
        "id": "imLw62qQuqLU",
        "outputId": "c32ac163-8d04-4970-f71d-234b299dc963"
      },
      "execution_count": null,
      "outputs": [
        {
          "output_type": "execute_result",
          "data": {
            "text/plain": [
              "              datetime       load  apparent_temperature  temperature  \\\n",
              "0  2018-01-01 00:00:00  803.22270              10.45800     10.45800   \n",
              "1  2018-01-01 00:15:00  774.89523              10.32675     10.32675   \n",
              "2  2018-01-01 00:30:00  731.46927              10.19550     10.19550   \n",
              "3  2018-01-01 00:45:00  713.93870              10.06425     10.06425   \n",
              "4  2018-01-01 01:00:00  699.23007               9.93300      9.93300   \n",
              "\n",
              "   humidity  dew_point  wind_speed  cloud_cover  \n",
              "0  0.955500   8.946000         0.0          0.0  \n",
              "1  0.961625   8.911875         0.0          0.0  \n",
              "2  0.967750   8.877750         0.0          0.0  \n",
              "3  0.973875   8.843625         0.0          0.0  \n",
              "4  0.980000   8.809500         0.0          0.0  "
            ],
            "text/html": [
              "\n",
              "  <div id=\"df-bb4ff67b-560c-438a-bd87-fc5b2310c066\">\n",
              "    <div class=\"colab-df-container\">\n",
              "      <div>\n",
              "<style scoped>\n",
              "    .dataframe tbody tr th:only-of-type {\n",
              "        vertical-align: middle;\n",
              "    }\n",
              "\n",
              "    .dataframe tbody tr th {\n",
              "        vertical-align: top;\n",
              "    }\n",
              "\n",
              "    .dataframe thead th {\n",
              "        text-align: right;\n",
              "    }\n",
              "</style>\n",
              "<table border=\"1\" class=\"dataframe\">\n",
              "  <thead>\n",
              "    <tr style=\"text-align: right;\">\n",
              "      <th></th>\n",
              "      <th>datetime</th>\n",
              "      <th>load</th>\n",
              "      <th>apparent_temperature</th>\n",
              "      <th>temperature</th>\n",
              "      <th>humidity</th>\n",
              "      <th>dew_point</th>\n",
              "      <th>wind_speed</th>\n",
              "      <th>cloud_cover</th>\n",
              "    </tr>\n",
              "  </thead>\n",
              "  <tbody>\n",
              "    <tr>\n",
              "      <th>0</th>\n",
              "      <td>2018-01-01 00:00:00</td>\n",
              "      <td>803.22270</td>\n",
              "      <td>10.45800</td>\n",
              "      <td>10.45800</td>\n",
              "      <td>0.955500</td>\n",
              "      <td>8.946000</td>\n",
              "      <td>0.0</td>\n",
              "      <td>0.0</td>\n",
              "    </tr>\n",
              "    <tr>\n",
              "      <th>1</th>\n",
              "      <td>2018-01-01 00:15:00</td>\n",
              "      <td>774.89523</td>\n",
              "      <td>10.32675</td>\n",
              "      <td>10.32675</td>\n",
              "      <td>0.961625</td>\n",
              "      <td>8.911875</td>\n",
              "      <td>0.0</td>\n",
              "      <td>0.0</td>\n",
              "    </tr>\n",
              "    <tr>\n",
              "      <th>2</th>\n",
              "      <td>2018-01-01 00:30:00</td>\n",
              "      <td>731.46927</td>\n",
              "      <td>10.19550</td>\n",
              "      <td>10.19550</td>\n",
              "      <td>0.967750</td>\n",
              "      <td>8.877750</td>\n",
              "      <td>0.0</td>\n",
              "      <td>0.0</td>\n",
              "    </tr>\n",
              "    <tr>\n",
              "      <th>3</th>\n",
              "      <td>2018-01-01 00:45:00</td>\n",
              "      <td>713.93870</td>\n",
              "      <td>10.06425</td>\n",
              "      <td>10.06425</td>\n",
              "      <td>0.973875</td>\n",
              "      <td>8.843625</td>\n",
              "      <td>0.0</td>\n",
              "      <td>0.0</td>\n",
              "    </tr>\n",
              "    <tr>\n",
              "      <th>4</th>\n",
              "      <td>2018-01-01 01:00:00</td>\n",
              "      <td>699.23007</td>\n",
              "      <td>9.93300</td>\n",
              "      <td>9.93300</td>\n",
              "      <td>0.980000</td>\n",
              "      <td>8.809500</td>\n",
              "      <td>0.0</td>\n",
              "      <td>0.0</td>\n",
              "    </tr>\n",
              "  </tbody>\n",
              "</table>\n",
              "</div>\n",
              "      <button class=\"colab-df-convert\" onclick=\"convertToInteractive('df-bb4ff67b-560c-438a-bd87-fc5b2310c066')\"\n",
              "              title=\"Convert this dataframe to an interactive table.\"\n",
              "              style=\"display:none;\">\n",
              "        \n",
              "  <svg xmlns=\"http://www.w3.org/2000/svg\" height=\"24px\"viewBox=\"0 0 24 24\"\n",
              "       width=\"24px\">\n",
              "    <path d=\"M0 0h24v24H0V0z\" fill=\"none\"/>\n",
              "    <path d=\"M18.56 5.44l.94 2.06.94-2.06 2.06-.94-2.06-.94-.94-2.06-.94 2.06-2.06.94zm-11 1L8.5 8.5l.94-2.06 2.06-.94-2.06-.94L8.5 2.5l-.94 2.06-2.06.94zm10 10l.94 2.06.94-2.06 2.06-.94-2.06-.94-.94-2.06-.94 2.06-2.06.94z\"/><path d=\"M17.41 7.96l-1.37-1.37c-.4-.4-.92-.59-1.43-.59-.52 0-1.04.2-1.43.59L10.3 9.45l-7.72 7.72c-.78.78-.78 2.05 0 2.83L4 21.41c.39.39.9.59 1.41.59.51 0 1.02-.2 1.41-.59l7.78-7.78 2.81-2.81c.8-.78.8-2.07 0-2.86zM5.41 20L4 18.59l7.72-7.72 1.47 1.35L5.41 20z\"/>\n",
              "  </svg>\n",
              "      </button>\n",
              "      \n",
              "  <style>\n",
              "    .colab-df-container {\n",
              "      display:flex;\n",
              "      flex-wrap:wrap;\n",
              "      gap: 12px;\n",
              "    }\n",
              "\n",
              "    .colab-df-convert {\n",
              "      background-color: #E8F0FE;\n",
              "      border: none;\n",
              "      border-radius: 50%;\n",
              "      cursor: pointer;\n",
              "      display: none;\n",
              "      fill: #1967D2;\n",
              "      height: 32px;\n",
              "      padding: 0 0 0 0;\n",
              "      width: 32px;\n",
              "    }\n",
              "\n",
              "    .colab-df-convert:hover {\n",
              "      background-color: #E2EBFA;\n",
              "      box-shadow: 0px 1px 2px rgba(60, 64, 67, 0.3), 0px 1px 3px 1px rgba(60, 64, 67, 0.15);\n",
              "      fill: #174EA6;\n",
              "    }\n",
              "\n",
              "    [theme=dark] .colab-df-convert {\n",
              "      background-color: #3B4455;\n",
              "      fill: #D2E3FC;\n",
              "    }\n",
              "\n",
              "    [theme=dark] .colab-df-convert:hover {\n",
              "      background-color: #434B5C;\n",
              "      box-shadow: 0px 1px 3px 1px rgba(0, 0, 0, 0.15);\n",
              "      filter: drop-shadow(0px 1px 2px rgba(0, 0, 0, 0.3));\n",
              "      fill: #FFFFFF;\n",
              "    }\n",
              "  </style>\n",
              "\n",
              "      <script>\n",
              "        const buttonEl =\n",
              "          document.querySelector('#df-bb4ff67b-560c-438a-bd87-fc5b2310c066 button.colab-df-convert');\n",
              "        buttonEl.style.display =\n",
              "          google.colab.kernel.accessAllowed ? 'block' : 'none';\n",
              "\n",
              "        async function convertToInteractive(key) {\n",
              "          const element = document.querySelector('#df-bb4ff67b-560c-438a-bd87-fc5b2310c066');\n",
              "          const dataTable =\n",
              "            await google.colab.kernel.invokeFunction('convertToInteractive',\n",
              "                                                     [key], {});\n",
              "          if (!dataTable) return;\n",
              "\n",
              "          const docLinkHtml = 'Like what you see? Visit the ' +\n",
              "            '<a target=\"_blank\" href=https://colab.research.google.com/notebooks/data_table.ipynb>data table notebook</a>'\n",
              "            + ' to learn more about interactive tables.';\n",
              "          element.innerHTML = '';\n",
              "          dataTable['output_type'] = 'display_data';\n",
              "          await google.colab.output.renderOutput(dataTable, element);\n",
              "          const docLink = document.createElement('div');\n",
              "          docLink.innerHTML = docLinkHtml;\n",
              "          element.appendChild(docLink);\n",
              "        }\n",
              "      </script>\n",
              "    </div>\n",
              "  </div>\n",
              "  "
            ]
          },
          "metadata": {},
          "execution_count": 11
        }
      ]
    },
    {
      "cell_type": "code",
      "source": [
        "#method 3 of comparing two pandas columns\n",
        "data[data['apparent_temperature']!=data['temperature']]"
      ],
      "metadata": {
        "colab": {
          "base_uri": "https://localhost:8080/",
          "height": 424
        },
        "id": "K2QVEkq9usLf",
        "outputId": "813337a9-0f5e-46c1-8ad0-79d91126396b"
      },
      "execution_count": null,
      "outputs": [
        {
          "output_type": "execute_result",
          "data": {
            "text/plain": [
              "                   datetime        load  apparent_temperature  temperature  \\\n",
              "13      2018-01-01 03:15:00   643.02357              8.732062      8.79375   \n",
              "14      2018-01-01 03:30:00   641.13083              8.581125      8.70450   \n",
              "15      2018-01-01 03:45:00   651.47020              8.430188      8.61525   \n",
              "16      2018-01-01 04:00:00   646.83632              8.279250      8.52600   \n",
              "17      2018-01-01 04:15:00   656.34850              8.128312      8.43675   \n",
              "...                     ...         ...                   ...          ...   \n",
              "103347  2020-12-12 12:45:00  1352.58190             23.210250     23.21550   \n",
              "103348  2020-12-12 13:00:00  1262.98480             23.562000     23.57250   \n",
              "103349  2020-12-12 13:15:00  1253.60190             23.827125     23.83500   \n",
              "103350  2020-12-12 13:30:00  1242.38080             24.092250     24.09750   \n",
              "103351  2020-12-12 13:45:00  1226.70560             24.357375     24.36000   \n",
              "\n",
              "        humidity  dew_point  wind_speed  cloud_cover  \n",
              "13      1.026375   8.411812    0.175875     0.000000  \n",
              "14      1.023750   8.287125    0.351750     0.000000  \n",
              "15      1.021125   8.162437    0.527625     0.000000  \n",
              "16      1.018500   8.037750    0.703500     0.000000  \n",
              "17      1.015875   7.913062    0.879375     0.000000  \n",
              "...          ...        ...         ...          ...  \n",
              "103347  0.682500  15.894375    1.501500     0.742875  \n",
              "103348  0.661500  15.760500    1.575000     0.745500  \n",
              "103349  0.645750  15.613500    1.656375     0.724500  \n",
              "103350  0.630000  15.466500    1.737750     0.703500  \n",
              "103351  0.614250  15.319500    1.819125     0.682500  \n",
              "\n",
              "[51828 rows x 8 columns]"
            ],
            "text/html": [
              "\n",
              "  <div id=\"df-4d2aff1a-1a3b-4075-8567-2fbdf69e5983\">\n",
              "    <div class=\"colab-df-container\">\n",
              "      <div>\n",
              "<style scoped>\n",
              "    .dataframe tbody tr th:only-of-type {\n",
              "        vertical-align: middle;\n",
              "    }\n",
              "\n",
              "    .dataframe tbody tr th {\n",
              "        vertical-align: top;\n",
              "    }\n",
              "\n",
              "    .dataframe thead th {\n",
              "        text-align: right;\n",
              "    }\n",
              "</style>\n",
              "<table border=\"1\" class=\"dataframe\">\n",
              "  <thead>\n",
              "    <tr style=\"text-align: right;\">\n",
              "      <th></th>\n",
              "      <th>datetime</th>\n",
              "      <th>load</th>\n",
              "      <th>apparent_temperature</th>\n",
              "      <th>temperature</th>\n",
              "      <th>humidity</th>\n",
              "      <th>dew_point</th>\n",
              "      <th>wind_speed</th>\n",
              "      <th>cloud_cover</th>\n",
              "    </tr>\n",
              "  </thead>\n",
              "  <tbody>\n",
              "    <tr>\n",
              "      <th>13</th>\n",
              "      <td>2018-01-01 03:15:00</td>\n",
              "      <td>643.02357</td>\n",
              "      <td>8.732062</td>\n",
              "      <td>8.79375</td>\n",
              "      <td>1.026375</td>\n",
              "      <td>8.411812</td>\n",
              "      <td>0.175875</td>\n",
              "      <td>0.000000</td>\n",
              "    </tr>\n",
              "    <tr>\n",
              "      <th>14</th>\n",
              "      <td>2018-01-01 03:30:00</td>\n",
              "      <td>641.13083</td>\n",
              "      <td>8.581125</td>\n",
              "      <td>8.70450</td>\n",
              "      <td>1.023750</td>\n",
              "      <td>8.287125</td>\n",
              "      <td>0.351750</td>\n",
              "      <td>0.000000</td>\n",
              "    </tr>\n",
              "    <tr>\n",
              "      <th>15</th>\n",
              "      <td>2018-01-01 03:45:00</td>\n",
              "      <td>651.47020</td>\n",
              "      <td>8.430188</td>\n",
              "      <td>8.61525</td>\n",
              "      <td>1.021125</td>\n",
              "      <td>8.162437</td>\n",
              "      <td>0.527625</td>\n",
              "      <td>0.000000</td>\n",
              "    </tr>\n",
              "    <tr>\n",
              "      <th>16</th>\n",
              "      <td>2018-01-01 04:00:00</td>\n",
              "      <td>646.83632</td>\n",
              "      <td>8.279250</td>\n",
              "      <td>8.52600</td>\n",
              "      <td>1.018500</td>\n",
              "      <td>8.037750</td>\n",
              "      <td>0.703500</td>\n",
              "      <td>0.000000</td>\n",
              "    </tr>\n",
              "    <tr>\n",
              "      <th>17</th>\n",
              "      <td>2018-01-01 04:15:00</td>\n",
              "      <td>656.34850</td>\n",
              "      <td>8.128312</td>\n",
              "      <td>8.43675</td>\n",
              "      <td>1.015875</td>\n",
              "      <td>7.913062</td>\n",
              "      <td>0.879375</td>\n",
              "      <td>0.000000</td>\n",
              "    </tr>\n",
              "    <tr>\n",
              "      <th>...</th>\n",
              "      <td>...</td>\n",
              "      <td>...</td>\n",
              "      <td>...</td>\n",
              "      <td>...</td>\n",
              "      <td>...</td>\n",
              "      <td>...</td>\n",
              "      <td>...</td>\n",
              "      <td>...</td>\n",
              "    </tr>\n",
              "    <tr>\n",
              "      <th>103347</th>\n",
              "      <td>2020-12-12 12:45:00</td>\n",
              "      <td>1352.58190</td>\n",
              "      <td>23.210250</td>\n",
              "      <td>23.21550</td>\n",
              "      <td>0.682500</td>\n",
              "      <td>15.894375</td>\n",
              "      <td>1.501500</td>\n",
              "      <td>0.742875</td>\n",
              "    </tr>\n",
              "    <tr>\n",
              "      <th>103348</th>\n",
              "      <td>2020-12-12 13:00:00</td>\n",
              "      <td>1262.98480</td>\n",
              "      <td>23.562000</td>\n",
              "      <td>23.57250</td>\n",
              "      <td>0.661500</td>\n",
              "      <td>15.760500</td>\n",
              "      <td>1.575000</td>\n",
              "      <td>0.745500</td>\n",
              "    </tr>\n",
              "    <tr>\n",
              "      <th>103349</th>\n",
              "      <td>2020-12-12 13:15:00</td>\n",
              "      <td>1253.60190</td>\n",
              "      <td>23.827125</td>\n",
              "      <td>23.83500</td>\n",
              "      <td>0.645750</td>\n",
              "      <td>15.613500</td>\n",
              "      <td>1.656375</td>\n",
              "      <td>0.724500</td>\n",
              "    </tr>\n",
              "    <tr>\n",
              "      <th>103350</th>\n",
              "      <td>2020-12-12 13:30:00</td>\n",
              "      <td>1242.38080</td>\n",
              "      <td>24.092250</td>\n",
              "      <td>24.09750</td>\n",
              "      <td>0.630000</td>\n",
              "      <td>15.466500</td>\n",
              "      <td>1.737750</td>\n",
              "      <td>0.703500</td>\n",
              "    </tr>\n",
              "    <tr>\n",
              "      <th>103351</th>\n",
              "      <td>2020-12-12 13:45:00</td>\n",
              "      <td>1226.70560</td>\n",
              "      <td>24.357375</td>\n",
              "      <td>24.36000</td>\n",
              "      <td>0.614250</td>\n",
              "      <td>15.319500</td>\n",
              "      <td>1.819125</td>\n",
              "      <td>0.682500</td>\n",
              "    </tr>\n",
              "  </tbody>\n",
              "</table>\n",
              "<p>51828 rows × 8 columns</p>\n",
              "</div>\n",
              "      <button class=\"colab-df-convert\" onclick=\"convertToInteractive('df-4d2aff1a-1a3b-4075-8567-2fbdf69e5983')\"\n",
              "              title=\"Convert this dataframe to an interactive table.\"\n",
              "              style=\"display:none;\">\n",
              "        \n",
              "  <svg xmlns=\"http://www.w3.org/2000/svg\" height=\"24px\"viewBox=\"0 0 24 24\"\n",
              "       width=\"24px\">\n",
              "    <path d=\"M0 0h24v24H0V0z\" fill=\"none\"/>\n",
              "    <path d=\"M18.56 5.44l.94 2.06.94-2.06 2.06-.94-2.06-.94-.94-2.06-.94 2.06-2.06.94zm-11 1L8.5 8.5l.94-2.06 2.06-.94-2.06-.94L8.5 2.5l-.94 2.06-2.06.94zm10 10l.94 2.06.94-2.06 2.06-.94-2.06-.94-.94-2.06-.94 2.06-2.06.94z\"/><path d=\"M17.41 7.96l-1.37-1.37c-.4-.4-.92-.59-1.43-.59-.52 0-1.04.2-1.43.59L10.3 9.45l-7.72 7.72c-.78.78-.78 2.05 0 2.83L4 21.41c.39.39.9.59 1.41.59.51 0 1.02-.2 1.41-.59l7.78-7.78 2.81-2.81c.8-.78.8-2.07 0-2.86zM5.41 20L4 18.59l7.72-7.72 1.47 1.35L5.41 20z\"/>\n",
              "  </svg>\n",
              "      </button>\n",
              "      \n",
              "  <style>\n",
              "    .colab-df-container {\n",
              "      display:flex;\n",
              "      flex-wrap:wrap;\n",
              "      gap: 12px;\n",
              "    }\n",
              "\n",
              "    .colab-df-convert {\n",
              "      background-color: #E8F0FE;\n",
              "      border: none;\n",
              "      border-radius: 50%;\n",
              "      cursor: pointer;\n",
              "      display: none;\n",
              "      fill: #1967D2;\n",
              "      height: 32px;\n",
              "      padding: 0 0 0 0;\n",
              "      width: 32px;\n",
              "    }\n",
              "\n",
              "    .colab-df-convert:hover {\n",
              "      background-color: #E2EBFA;\n",
              "      box-shadow: 0px 1px 2px rgba(60, 64, 67, 0.3), 0px 1px 3px 1px rgba(60, 64, 67, 0.15);\n",
              "      fill: #174EA6;\n",
              "    }\n",
              "\n",
              "    [theme=dark] .colab-df-convert {\n",
              "      background-color: #3B4455;\n",
              "      fill: #D2E3FC;\n",
              "    }\n",
              "\n",
              "    [theme=dark] .colab-df-convert:hover {\n",
              "      background-color: #434B5C;\n",
              "      box-shadow: 0px 1px 3px 1px rgba(0, 0, 0, 0.15);\n",
              "      filter: drop-shadow(0px 1px 2px rgba(0, 0, 0, 0.3));\n",
              "      fill: #FFFFFF;\n",
              "    }\n",
              "  </style>\n",
              "\n",
              "      <script>\n",
              "        const buttonEl =\n",
              "          document.querySelector('#df-4d2aff1a-1a3b-4075-8567-2fbdf69e5983 button.colab-df-convert');\n",
              "        buttonEl.style.display =\n",
              "          google.colab.kernel.accessAllowed ? 'block' : 'none';\n",
              "\n",
              "        async function convertToInteractive(key) {\n",
              "          const element = document.querySelector('#df-4d2aff1a-1a3b-4075-8567-2fbdf69e5983');\n",
              "          const dataTable =\n",
              "            await google.colab.kernel.invokeFunction('convertToInteractive',\n",
              "                                                     [key], {});\n",
              "          if (!dataTable) return;\n",
              "\n",
              "          const docLinkHtml = 'Like what you see? Visit the ' +\n",
              "            '<a target=\"_blank\" href=https://colab.research.google.com/notebooks/data_table.ipynb>data table notebook</a>'\n",
              "            + ' to learn more about interactive tables.';\n",
              "          element.innerHTML = '';\n",
              "          dataTable['output_type'] = 'display_data';\n",
              "          await google.colab.output.renderOutput(dataTable, element);\n",
              "          const docLink = document.createElement('div');\n",
              "          docLink.innerHTML = docLinkHtml;\n",
              "          element.appendChild(docLink);\n",
              "        }\n",
              "      </script>\n",
              "    </div>\n",
              "  </div>\n",
              "  "
            ]
          },
          "metadata": {},
          "execution_count": 12
        }
      ]
    },
    {
      "cell_type": "code",
      "source": [
        "data.info()"
      ],
      "metadata": {
        "colab": {
          "base_uri": "https://localhost:8080/"
        },
        "id": "MBp76Ci4u03M",
        "outputId": "21cb0b0a-95f6-4718-943f-42a4adbefe9a"
      },
      "execution_count": null,
      "outputs": [
        {
          "output_type": "stream",
          "name": "stdout",
          "text": [
            "<class 'pandas.core.frame.DataFrame'>\n",
            "RangeIndex: 103392 entries, 0 to 103391\n",
            "Data columns (total 8 columns):\n",
            " #   Column                Non-Null Count   Dtype  \n",
            "---  ------                --------------   -----  \n",
            " 0   datetime              103392 non-null  object \n",
            " 1   load                  101952 non-null  float64\n",
            " 2   apparent_temperature  103392 non-null  float64\n",
            " 3   temperature           103392 non-null  float64\n",
            " 4   humidity              103392 non-null  float64\n",
            " 5   dew_point             103392 non-null  float64\n",
            " 6   wind_speed            103392 non-null  float64\n",
            " 7   cloud_cover           103392 non-null  float64\n",
            "dtypes: float64(7), object(1)\n",
            "memory usage: 6.3+ MB\n"
          ]
        }
      ]
    },
    {
      "cell_type": "code",
      "source": [
        "data['load'] = data['load'].interpolate()"
      ],
      "metadata": {
        "id": "rBhOt1iGwoCf"
      },
      "execution_count": null,
      "outputs": []
    },
    {
      "cell_type": "code",
      "source": [
        "data.info()"
      ],
      "metadata": {
        "colab": {
          "base_uri": "https://localhost:8080/"
        },
        "id": "BgyHMut4x5cy",
        "outputId": "80d229cb-a064-47b0-c68c-dc8ccf291efc"
      },
      "execution_count": null,
      "outputs": [
        {
          "output_type": "stream",
          "name": "stdout",
          "text": [
            "<class 'pandas.core.frame.DataFrame'>\n",
            "RangeIndex: 103392 entries, 0 to 103391\n",
            "Data columns (total 8 columns):\n",
            " #   Column                Non-Null Count   Dtype  \n",
            "---  ------                --------------   -----  \n",
            " 0   datetime              103392 non-null  object \n",
            " 1   load                  103392 non-null  float64\n",
            " 2   apparent_temperature  103392 non-null  float64\n",
            " 3   temperature           103392 non-null  float64\n",
            " 4   humidity              103392 non-null  float64\n",
            " 5   dew_point             103392 non-null  float64\n",
            " 6   wind_speed            103392 non-null  float64\n",
            " 7   cloud_cover           103392 non-null  float64\n",
            "dtypes: float64(7), object(1)\n",
            "memory usage: 6.3+ MB\n"
          ]
        }
      ]
    },
    {
      "cell_type": "code",
      "source": [
        "# why we convert the datetime column to datetime object\n",
        "train_date = pd.to_datetime(data['datetime'])"
      ],
      "metadata": {
        "id": "8_tfLt8Gx8G-"
      },
      "execution_count": null,
      "outputs": []
    },
    {
      "cell_type": "code",
      "source": [
        "train_date"
      ],
      "metadata": {
        "colab": {
          "base_uri": "https://localhost:8080/"
        },
        "id": "cFHmt8lwyxFZ",
        "outputId": "807463b3-2a59-405d-8ba2-4c97f56ccdf7"
      },
      "execution_count": null,
      "outputs": [
        {
          "output_type": "execute_result",
          "data": {
            "text/plain": [
              "0        2018-01-01 00:00:00\n",
              "1        2018-01-01 00:15:00\n",
              "2        2018-01-01 00:30:00\n",
              "3        2018-01-01 00:45:00\n",
              "4        2018-01-01 01:00:00\n",
              "                 ...        \n",
              "103387   2020-12-12 22:45:00\n",
              "103388   2020-12-12 23:00:00\n",
              "103389   2020-12-12 23:15:00\n",
              "103390   2020-12-12 23:30:00\n",
              "103391   2020-12-12 23:45:00\n",
              "Name: datetime, Length: 103392, dtype: datetime64[ns]"
            ]
          },
          "metadata": {},
          "execution_count": 17
        }
      ]
    },
    {
      "cell_type": "code",
      "source": [
        "# Let's seperate all the feature columns as well as the ground truth label column from the dataset\n",
        "\n",
        "cols = list(data)[1:8]    # we exclude the last number in [ ] this for example [1:4] is 1,2,3 and not 1,2,3,4"
      ],
      "metadata": {
        "id": "2TxWPnYwyyeE"
      },
      "execution_count": null,
      "outputs": []
    },
    {
      "cell_type": "code",
      "source": [
        "cols"
      ],
      "metadata": {
        "colab": {
          "base_uri": "https://localhost:8080/"
        },
        "id": "p_8WSLBGy8iK",
        "outputId": "0c640e15-bfe1-4c4c-a9bf-1916cbfd0082"
      },
      "execution_count": null,
      "outputs": [
        {
          "output_type": "execute_result",
          "data": {
            "text/plain": [
              "['load',\n",
              " 'apparent_temperature',\n",
              " 'temperature',\n",
              " 'humidity',\n",
              " 'dew_point',\n",
              " 'wind_speed',\n",
              " 'cloud_cover']"
            ]
          },
          "metadata": {},
          "execution_count": 19
        }
      ]
    },
    {
      "cell_type": "code",
      "source": [
        "df_for_training = data[cols].astype(float)"
      ],
      "metadata": {
        "id": "eePdry3FzJKn"
      },
      "execution_count": null,
      "outputs": []
    },
    {
      "cell_type": "code",
      "source": [
        "df_for_training.info()   # why did we change the datatype twice?"
      ],
      "metadata": {
        "colab": {
          "base_uri": "https://localhost:8080/"
        },
        "id": "qxzC7UH4zuAJ",
        "outputId": "3ad7887b-4417-4b78-cb66-60cefba100e7"
      },
      "execution_count": null,
      "outputs": [
        {
          "output_type": "stream",
          "name": "stdout",
          "text": [
            "<class 'pandas.core.frame.DataFrame'>\n",
            "RangeIndex: 103392 entries, 0 to 103391\n",
            "Data columns (total 7 columns):\n",
            " #   Column                Non-Null Count   Dtype  \n",
            "---  ------                --------------   -----  \n",
            " 0   load                  103392 non-null  float64\n",
            " 1   apparent_temperature  103392 non-null  float64\n",
            " 2   temperature           103392 non-null  float64\n",
            " 3   humidity              103392 non-null  float64\n",
            " 4   dew_point             103392 non-null  float64\n",
            " 5   wind_speed            103392 non-null  float64\n",
            " 6   cloud_cover           103392 non-null  float64\n",
            "dtypes: float64(7)\n",
            "memory usage: 5.5 MB\n"
          ]
        }
      ]
    },
    {
      "cell_type": "code",
      "source": [
        "df_for_plot = df_for_training.tail(10000)\n",
        "df_for_plot.plot.line()"
      ],
      "metadata": {
        "colab": {
          "base_uri": "https://localhost:8080/",
          "height": 282
        },
        "id": "Qh4wOqsRzxDw",
        "outputId": "1d2a4ce3-a6fd-42a4-faf4-9a3449929b45"
      },
      "execution_count": null,
      "outputs": [
        {
          "output_type": "execute_result",
          "data": {
            "text/plain": [
              "<matplotlib.axes._subplots.AxesSubplot at 0x7f8ad29ee850>"
            ]
          },
          "metadata": {},
          "execution_count": 22
        },
        {
          "output_type": "display_data",
          "data": {
            "text/plain": [
              "<Figure size 432x288 with 1 Axes>"
            ],
            "image/png": "[encoded data removed]"
          },
          "metadata": {
            "needs_background": "light"
          }
        }
      ]
    },
    {
      "cell_type": "code",
      "source": [
        "df_for_training.plot.line()"
      ],
      "metadata": {
        "colab": {
          "base_uri": "https://localhost:8080/",
          "height": 282
        },
        "id": "yYY0abbO0EvC",
        "outputId": "0f85eda4-b834-4525-8586-dac94d702f6b"
      },
      "execution_count": null,
      "outputs": [
        {
          "output_type": "execute_result",
          "data": {
            "text/plain": [
              "<matplotlib.axes._subplots.AxesSubplot at 0x7f8ad28ffdd0>"
            ]
          },
          "metadata": {},
          "execution_count": 23
        },
        {
          "output_type": "display_data",
          "data": {
            "text/plain": [
              "<Figure size 432x288 with 1 Axes>"
            ],
            "image/png": "[encoded data removed]"
          },
          "metadata": {
            "needs_background": "light"
          }
        }
      ]
    },
    {
      "cell_type": "markdown",
      "source": [
        "# Data Preprocessing"
      ],
      "metadata": {
        "id": "ifcYec0O0mve"
      }
    },
    {
      "cell_type": "code",
      "source": [
        "# Now, what we are doing to do is that, we are going to normalize our data so that the gradient converges faster in the backpropagation \n",
        "# while training the LSTM network, using this data\n",
        "\n",
        "scaler = StandardScaler()\n",
        "scaler = scaler.fit(df_for_training)\n",
        "df_for_training_scaled = scaler.transform(df_for_training)"
      ],
      "metadata": {
        "id": "0MHi0XTX0OPx"
      },
      "execution_count": null,
      "outputs": []
    },
    {
      "cell_type": "markdown",
      "source": [
        "# Let's prepare the training data"
      ],
      "metadata": {
        "id": "94HfcFf-1YKP"
      }
    },
    {
      "cell_type": "code",
      "source": [
        "training_features = []\n",
        "training_labels = []"
      ],
      "metadata": {
        "id": "nuyG8MOH1UlQ"
      },
      "execution_count": null,
      "outputs": []
    },
    {
      "cell_type": "code",
      "source": [
        "n_future = 1 #How many values are to be predicted in future \n",
        "n_past = 14 # How many past time steps values are to be taken into consideration to predict the future value. "
      ],
      "metadata": {
        "id": "mcqfgIZI1cFe"
      },
      "execution_count": null,
      "outputs": []
    },
    {
      "cell_type": "code",
      "source": [
        "for i in range(n_past, 30 - n_future + 1):\n",
        "  print(i)\n",
        "  # if i>20:\n",
        "  #   break"
      ],
      "metadata": {
        "colab": {
          "base_uri": "https://localhost:8080/"
        },
        "id": "Cw9nMcRQ8eUz",
        "outputId": "a2fdb7d2-a806-47eb-9d9d-9efcb88e78f9"
      },
      "execution_count": null,
      "outputs": [
        {
          "output_type": "stream",
          "name": "stdout",
          "text": [
            "14\n",
            "15\n",
            "16\n",
            "17\n",
            "18\n",
            "19\n",
            "20\n",
            "21\n",
            "22\n",
            "23\n",
            "24\n",
            "25\n",
            "26\n",
            "27\n",
            "28\n",
            "29\n"
          ]
        }
      ]
    },
    {
      "cell_type": "code",
      "source": [
        "df_for_training_scaled.shape[1]"
      ],
      "metadata": {
        "colab": {
          "base_uri": "https://localhost:8080/"
        },
        "id": "7iLYtQrZ9XQK",
        "outputId": "dbc17c1a-c921-45ae-80fe-7ff31500f94d"
      },
      "execution_count": null,
      "outputs": [
        {
          "output_type": "execute_result",
          "data": {
            "text/plain": [
              "7"
            ]
          },
          "metadata": {},
          "execution_count": 28
        }
      ]
    },
    {
      "cell_type": "code",
      "source": [
        "df_for_training_scaled[14,0]"
      ],
      "metadata": {
        "colab": {
          "base_uri": "https://localhost:8080/"
        },
        "id": "sp2C995Y-Exf",
        "outputId": "634c5777-b5d0-4e93-b0b2-47641487941a"
      },
      "execution_count": null,
      "outputs": [
        {
          "output_type": "execute_result",
          "data": {
            "text/plain": [
              "-1.7316048995258948"
            ]
          },
          "metadata": {},
          "execution_count": 29
        }
      ]
    },
    {
      "cell_type": "code",
      "source": [
        "# 14-14:14 0:14\n",
        "# 13:14\n",
        "df_for_training_scaled[14:14, 0]"
      ],
      "metadata": {
        "colab": {
          "base_uri": "https://localhost:8080/"
        },
        "id": "98mOV9o39iHG",
        "outputId": "e8c168d7-96e8-49fe-e565-f2a232c71418"
      },
      "execution_count": null,
      "outputs": [
        {
          "output_type": "execute_result",
          "data": {
            "text/plain": [
              "array([], dtype=float64)"
            ]
          },
          "metadata": {},
          "execution_count": 30
        }
      ]
    },
    {
      "cell_type": "code",
      "source": [
        "a = [1,2,3,4,5,6,7,8,9,10,11,12,13,14,15,16]\n",
        "n_past = 5\n",
        "n_future = 2\n",
        "for i in range(n_past,len(a)-n_future+1):\n",
        "  print(f'i : {i}')\n",
        "  print(f'feature_index: {i - n_past}:{i}')\n",
        "  print(f'label_index: {i}:{i +n_future}')"
      ],
      "metadata": {
        "colab": {
          "base_uri": "https://localhost:8080/"
        },
        "id": "ALw9KTYdkt8s",
        "outputId": "a246f396-d7f1-48b4-cd6e-1915a971a8aa"
      },
      "execution_count": null,
      "outputs": [
        {
          "output_type": "stream",
          "name": "stdout",
          "text": [
            "i : 5\n",
            "feature_index: 0:5\n",
            "label_index: 5:7\n",
            "i : 6\n",
            "feature_index: 1:6\n",
            "label_index: 6:8\n",
            "i : 7\n",
            "feature_index: 2:7\n",
            "label_index: 7:9\n",
            "i : 8\n",
            "feature_index: 3:8\n",
            "label_index: 8:10\n",
            "i : 9\n",
            "feature_index: 4:9\n",
            "label_index: 9:11\n",
            "i : 10\n",
            "feature_index: 5:10\n",
            "label_index: 10:12\n",
            "i : 11\n",
            "feature_index: 6:11\n",
            "label_index: 11:13\n",
            "i : 12\n",
            "feature_index: 7:12\n",
            "label_index: 12:14\n",
            "i : 13\n",
            "feature_index: 8:13\n",
            "label_index: 13:15\n",
            "i : 14\n",
            "feature_index: 9:14\n",
            "label_index: 14:16\n"
          ]
        }
      ]
    },
    {
      "cell_type": "code",
      "source": [
        "for i in range(n_past, len(df_for_training_scaled) - n_future + 1):\n",
        "    \n",
        "    training_features.append(df_for_training_scaled[i - n_past:i,\n",
        "                                           0:df_for_training_scaled.shape[1]])\n",
        "    training_labels.append(df_for_training_scaled[i + n_future - 1:i +n_future, 0]) # i don't get it for example if we have to predict 2 values we still would get only one label"
      ],
      "metadata": {
        "id": "bb1D0OwI1io4"
      },
      "execution_count": null,
      "outputs": []
    },
    {
      "cell_type": "code",
      "source": [
        "training_features, training_labels = np.array(training_features), np.array(training_labels)"
      ],
      "metadata": {
        "id": "l1rUGYWbCR2p"
      },
      "execution_count": null,
      "outputs": []
    },
    {
      "cell_type": "code",
      "source": [
        "training_features.shape"
      ],
      "metadata": {
        "colab": {
          "base_uri": "https://localhost:8080/"
        },
        "id": "NbMOAQyOCYud",
        "outputId": "83f8a12a-3273-42dd-9a18-070a9d79f70a"
      },
      "execution_count": null,
      "outputs": [
        {
          "output_type": "execute_result",
          "data": {
            "text/plain": [
              "(103378, 14, 7)"
            ]
          },
          "metadata": {},
          "execution_count": 29
        }
      ]
    },
    {
      "cell_type": "code",
      "source": [
        "training_labels.shape"
      ],
      "metadata": {
        "colab": {
          "base_uri": "https://localhost:8080/"
        },
        "id": "mAzTpP9DCcjA",
        "outputId": "10e0ee3a-5926-49d8-9b47-17ce31e7cccb"
      },
      "execution_count": null,
      "outputs": [
        {
          "output_type": "execute_result",
          "data": {
            "text/plain": [
              "(103378, 1)"
            ]
          },
          "metadata": {},
          "execution_count": 30
        }
      ]
    },
    {
      "cell_type": "code",
      "source": [
        "training_features.shape[2]"
      ],
      "metadata": {
        "colab": {
          "base_uri": "https://localhost:8080/"
        },
        "id": "fUwyLZeZC74v",
        "outputId": "87e7c4dd-6a60-460a-9267-ca838d867245"
      },
      "execution_count": null,
      "outputs": [
        {
          "output_type": "execute_result",
          "data": {
            "text/plain": [
              "7"
            ]
          },
          "metadata": {},
          "execution_count": 31
        }
      ]
    },
    {
      "cell_type": "markdown",
      "source": [
        "# LSTM Model"
      ],
      "metadata": {
        "id": "2LBxJPX2ChxD"
      }
    },
    {
      "cell_type": "code",
      "source": [
        "model = Sequential()\n",
        "model.add(LSTM(\n",
        "    128, \n",
        "    activation = 'relu',\n",
        "    input_shape = (training_features.shape[1], training_features.shape[2]),\n",
        "    return_sequences = True\n",
        "))\n",
        "model.add(LSTM(\n",
        "    64, \n",
        "    activation = 'relu',\n",
        "    return_sequences = False\n",
        "))\n",
        "model.add(Dropout(0.5))\n",
        "model.add(Dense(training_labels.shape[1]))\n",
        "model.summary()"
      ],
      "metadata": {
        "colab": {
          "base_uri": "https://localhost:8080/"
        },
        "id": "7Sv1VSzmCeS8",
        "outputId": "39c34bb7-c29d-4cc8-eb22-a3cc82d6e56c"
      },
      "execution_count": null,
      "outputs": [
        {
          "output_type": "stream",
          "name": "stdout",
          "text": [
            "Model: \"sequential\"\n",
            "_________________________________________________________________\n",
            " Layer (type)                Output Shape              Param #   \n",
            "=================================================================\n",
            " lstm (LSTM)                 (None, 14, 128)           69632     \n",
            "                                                                 \n",
            " lstm_1 (LSTM)               (None, 64)                49408     \n",
            "                                                                 \n",
            " dropout (Dropout)           (None, 64)                0         \n",
            "                                                                 \n",
            " dense (Dense)               (None, 1)                 65        \n",
            "                                                                 \n",
            "=================================================================\n",
            "Total params: 119,105\n",
            "Trainable params: 119,105\n",
            "Non-trainable params: 0\n",
            "_________________________________________________________________\n"
          ]
        }
      ]
    },
    {
      "cell_type": "code",
      "source": [
        "import tensorflow as tf"
      ],
      "metadata": {
        "id": "GtyQjRFHIsAq"
      },
      "execution_count": null,
      "outputs": []
    },
    {
      "cell_type": "code",
      "source": [
        "tf.keras.utils.plot_model(model=model,show_shapes=True)"
      ],
      "metadata": {
        "colab": {
          "base_uri": "https://localhost:8080/",
          "height": 533
        },
        "id": "msaFBkTfImL_",
        "outputId": "d5ec1873-3712-40d6-c43b-f36d68769fef"
      },
      "execution_count": null,
      "outputs": [
        {
          "output_type": "execute_result",
          "data": {
            "text/plain": [
              "<IPython.core.display.Image object>"
            ],
            "image/png": "[encoded data removed]"
          },
          "metadata": {},
          "execution_count": 34
        }
      ]
    },
    {
      "cell_type": "code",
      "source": [
        "model.compile(\n",
        "    loss = 'mse',\n",
        "    optimizer = 'adam'\n",
        ")"
      ],
      "metadata": {
        "id": "Ef1bjqNSCoHG"
      },
      "execution_count": null,
      "outputs": []
    },
    {
      "cell_type": "code",
      "source": [
        "history = model.fit(\n",
        "    training_features,\n",
        "    training_labels,\n",
        "    epochs = 10,\n",
        "    batch_size = 128,\n",
        "    validation_split = 0.3,\n",
        "    verbose =1,\n",
        "    shuffle = False \n",
        ")"
      ],
      "metadata": {
        "colab": {
          "base_uri": "https://localhost:8080/"
        },
        "id": "NG6Rtj-8DFPu",
        "outputId": "1a380aa0-3bba-4241-c816-b456b01c30c1"
      },
      "execution_count": null,
      "outputs": [
        {
          "output_type": "stream",
          "name": "stdout",
          "text": [
            "Epoch 1/10\n",
            "566/566 [==============================] - 43s 72ms/step - loss: 0.1178 - val_loss: 0.0796\n",
            "Epoch 2/10\n",
            "566/566 [==============================] - 37s 66ms/step - loss: 0.0558 - val_loss: 0.0375\n",
            "Epoch 3/10\n",
            "566/566 [==============================] - 39s 69ms/step - loss: 0.0497 - val_loss: 0.0414\n",
            "Epoch 4/10\n",
            "566/566 [==============================] - 37s 66ms/step - loss: 0.0470 - val_loss: 0.0230\n",
            "Epoch 5/10\n",
            "566/566 [==============================] - 38s 66ms/step - loss: 0.0458 - val_loss: 0.0164\n",
            "Epoch 6/10\n",
            "566/566 [==============================] - 39s 70ms/step - loss: 0.0461 - val_loss: 0.0181\n",
            "Epoch 7/10\n",
            "566/566 [==============================] - 38s 66ms/step - loss: 0.0454 - val_loss: 0.0164\n",
            "Epoch 8/10\n",
            "566/566 [==============================] - 38s 66ms/step - loss: 0.0452 - val_loss: 0.0168\n",
            "Epoch 9/10\n",
            "566/566 [==============================] - 39s 70ms/step - loss: 0.0454 - val_loss: 0.0074\n",
            "Epoch 10/10\n",
            "566/566 [==============================] - 38s 66ms/step - loss: 0.0453 - val_loss: 0.0253\n"
          ]
        }
      ]
    },
    {
      "cell_type": "code",
      "source": [
        "plt.plot(history.history['loss'], label = 'Training loss')\n",
        "plt.plot(history.history['val_loss'], label = 'validation loss')\n",
        "plt.legend()"
      ],
      "metadata": {
        "colab": {
          "base_uri": "https://localhost:8080/",
          "height": 282
        },
        "id": "PAsvnjDzDFou",
        "outputId": "46c42853-3650-4aaf-f176-69884e011bfd"
      },
      "execution_count": null,
      "outputs": [
        {
          "output_type": "execute_result",
          "data": {
            "text/plain": [
              "<matplotlib.legend.Legend at 0x7f8ac94d14d0>"
            ]
          },
          "metadata": {},
          "execution_count": 37
        },
        {
          "output_type": "display_data",
          "data": {
            "text/plain": [
              "<Figure size 432x288 with 1 Axes>"
            ],
            "image/png": "[encoded data removed]"
          },
          "metadata": {
            "needs_background": "light"
          }
        }
      ]
    },
    {
      "cell_type": "code",
      "source": [
        "n_future = 194 # We will be trying to predict the future 194 values through our model. \n",
        "train_date"
      ],
      "metadata": {
        "colab": {
          "base_uri": "https://localhost:8080/"
        },
        "id": "P2ekyAVKDPdp",
        "outputId": "ae984ecf-49bb-4d10-c126-c3e2d68d18b1"
      },
      "execution_count": null,
      "outputs": [
        {
          "output_type": "execute_result",
          "data": {
            "text/plain": [
              "0        2018-01-01 00:00:00\n",
              "1        2018-01-01 00:15:00\n",
              "2        2018-01-01 00:30:00\n",
              "3        2018-01-01 00:45:00\n",
              "4        2018-01-01 01:00:00\n",
              "                 ...        \n",
              "103387   2020-12-12 22:45:00\n",
              "103388   2020-12-12 23:00:00\n",
              "103389   2020-12-12 23:15:00\n",
              "103390   2020-12-12 23:30:00\n",
              "103391   2020-12-12 23:45:00\n",
              "Name: datetime, Length: 103392, dtype: datetime64[ns]"
            ]
          },
          "metadata": {},
          "execution_count": 38
        }
      ]
    },
    {
      "cell_type": "code",
      "source": [
        "# This is going to be the forecasting datetime period for which want to predict the values in future using our trained model.\n",
        "forecast_period_dates = pd.date_range(\n",
        "    list(train_date)[-1],\n",
        "    periods = n_future,\n",
        "    freq = \"15min\"\n",
        ").tolist()"
      ],
      "metadata": {
        "id": "aSOyrbhfDTrp"
      },
      "execution_count": null,
      "outputs": []
    },
    {
      "cell_type": "code",
      "source": [
        "forecast_period_dates[1:]"
      ],
      "metadata": {
        "colab": {
          "base_uri": "https://localhost:8080/"
        },
        "id": "tu5jhcp3DWyp",
        "outputId": "8f809b15-589e-45a4-e9bb-dbf2216f4a7d"
      },
      "execution_count": null,
      "outputs": [
        {
          "output_type": "execute_result",
          "data": {
            "text/plain": [
              "[Timestamp('2020-12-13 00:00:00', freq='15T'),\n",
              " Timestamp('2020-12-13 00:15:00', freq='15T'),\n",
              " Timestamp('2020-12-13 00:30:00', freq='15T'),\n",
              " Timestamp('2020-12-13 00:45:00', freq='15T'),\n",
              " Timestamp('2020-12-13 01:00:00', freq='15T'),\n",
              " Timestamp('2020-12-13 01:15:00', freq='15T'),\n",
              " Timestamp('2020-12-13 01:30:00', freq='15T'),\n",
              " Timestamp('2020-12-13 01:45:00', freq='15T'),\n",
              " Timestamp('2020-12-13 02:00:00', freq='15T'),\n",
              " Timestamp('2020-12-13 02:15:00', freq='15T'),\n",
              " Timestamp('2020-12-13 02:30:00', freq='15T'),\n",
              " Timestamp('2020-12-13 02:45:00', freq='15T'),\n",
              " Timestamp('2020-12-13 03:00:00', freq='15T'),\n",
              " Timestamp('2020-12-13 03:15:00', freq='15T'),\n",
              " Timestamp('2020-12-13 03:30:00', freq='15T'),\n",
              " Timestamp('2020-12-13 03:45:00', freq='15T'),\n",
              " Timestamp('2020-12-13 04:00:00', freq='15T'),\n",
              " Timestamp('2020-12-13 04:15:00', freq='15T'),\n",
              " Timestamp('2020-12-13 04:30:00', freq='15T'),\n",
              " Timestamp('2020-12-13 04:45:00', freq='15T'),\n",
              " Timestamp('2020-12-13 05:00:00', freq='15T'),\n",
              " Timestamp('2020-12-13 05:15:00', freq='15T'),\n",
              " Timestamp('2020-12-13 05:30:00', freq='15T'),\n",
              " Timestamp('2020-12-13 05:45:00', freq='15T'),\n",
              " Timestamp('2020-12-13 06:00:00', freq='15T'),\n",
              " Timestamp('2020-12-13 06:15:00', freq='15T'),\n",
              " Timestamp('2020-12-13 06:30:00', freq='15T'),\n",
              " Timestamp('2020-12-13 06:45:00', freq='15T'),\n",
              " Timestamp('2020-12-13 07:00:00', freq='15T'),\n",
              " Timestamp('2020-12-13 07:15:00', freq='15T'),\n",
              " Timestamp('2020-12-13 07:30:00', freq='15T'),\n",
              " Timestamp('2020-12-13 07:45:00', freq='15T'),\n",
              " Timestamp('2020-12-13 08:00:00', freq='15T'),\n",
              " Timestamp('2020-12-13 08:15:00', freq='15T'),\n",
              " Timestamp('2020-12-13 08:30:00', freq='15T'),\n",
              " Timestamp('2020-12-13 08:45:00', freq='15T'),\n",
              " Timestamp('2020-12-13 09:00:00', freq='15T'),\n",
              " Timestamp('2020-12-13 09:15:00', freq='15T'),\n",
              " Timestamp('2020-12-13 09:30:00', freq='15T'),\n",
              " Timestamp('2020-12-13 09:45:00', freq='15T'),\n",
              " Timestamp('2020-12-13 10:00:00', freq='15T'),\n",
              " Timestamp('2020-12-13 10:15:00', freq='15T'),\n",
              " Timestamp('2020-12-13 10:30:00', freq='15T'),\n",
              " Timestamp('2020-12-13 10:45:00', freq='15T'),\n",
              " Timestamp('2020-12-13 11:00:00', freq='15T'),\n",
              " Timestamp('2020-12-13 11:15:00', freq='15T'),\n",
              " Timestamp('2020-12-13 11:30:00', freq='15T'),\n",
              " Timestamp('2020-12-13 11:45:00', freq='15T'),\n",
              " Timestamp('2020-12-13 12:00:00', freq='15T'),\n",
              " Timestamp('2020-12-13 12:15:00', freq='15T'),\n",
              " Timestamp('2020-12-13 12:30:00', freq='15T'),\n",
              " Timestamp('2020-12-13 12:45:00', freq='15T'),\n",
              " Timestamp('2020-12-13 13:00:00', freq='15T'),\n",
              " Timestamp('2020-12-13 13:15:00', freq='15T'),\n",
              " Timestamp('2020-12-13 13:30:00', freq='15T'),\n",
              " Timestamp('2020-12-13 13:45:00', freq='15T'),\n",
              " Timestamp('2020-12-13 14:00:00', freq='15T'),\n",
              " Timestamp('2020-12-13 14:15:00', freq='15T'),\n",
              " Timestamp('2020-12-13 14:30:00', freq='15T'),\n",
              " Timestamp('2020-12-13 14:45:00', freq='15T'),\n",
              " Timestamp('2020-12-13 15:00:00', freq='15T'),\n",
              " Timestamp('2020-12-13 15:15:00', freq='15T'),\n",
              " Timestamp('2020-12-13 15:30:00', freq='15T'),\n",
              " Timestamp('2020-12-13 15:45:00', freq='15T'),\n",
              " Timestamp('2020-12-13 16:00:00', freq='15T'),\n",
              " Timestamp('2020-12-13 16:15:00', freq='15T'),\n",
              " Timestamp('2020-12-13 16:30:00', freq='15T'),\n",
              " Timestamp('2020-12-13 16:45:00', freq='15T'),\n",
              " Timestamp('2020-12-13 17:00:00', freq='15T'),\n",
              " Timestamp('2020-12-13 17:15:00', freq='15T'),\n",
              " Timestamp('2020-12-13 17:30:00', freq='15T'),\n",
              " Timestamp('2020-12-13 17:45:00', freq='15T'),\n",
              " Timestamp('2020-12-13 18:00:00', freq='15T'),\n",
              " Timestamp('2020-12-13 18:15:00', freq='15T'),\n",
              " Timestamp('2020-12-13 18:30:00', freq='15T'),\n",
              " Timestamp('2020-12-13 18:45:00', freq='15T'),\n",
              " Timestamp('2020-12-13 19:00:00', freq='15T'),\n",
              " Timestamp('2020-12-13 19:15:00', freq='15T'),\n",
              " Timestamp('2020-12-13 19:30:00', freq='15T'),\n",
              " Timestamp('2020-12-13 19:45:00', freq='15T'),\n",
              " Timestamp('2020-12-13 20:00:00', freq='15T'),\n",
              " Timestamp('2020-12-13 20:15:00', freq='15T'),\n",
              " Timestamp('2020-12-13 20:30:00', freq='15T'),\n",
              " Timestamp('2020-12-13 20:45:00', freq='15T'),\n",
              " Timestamp('2020-12-13 21:00:00', freq='15T'),\n",
              " Timestamp('2020-12-13 21:15:00', freq='15T'),\n",
              " Timestamp('2020-12-13 21:30:00', freq='15T'),\n",
              " Timestamp('2020-12-13 21:45:00', freq='15T'),\n",
              " Timestamp('2020-12-13 22:00:00', freq='15T'),\n",
              " Timestamp('2020-12-13 22:15:00', freq='15T'),\n",
              " Timestamp('2020-12-13 22:30:00', freq='15T'),\n",
              " Timestamp('2020-12-13 22:45:00', freq='15T'),\n",
              " Timestamp('2020-12-13 23:00:00', freq='15T'),\n",
              " Timestamp('2020-12-13 23:15:00', freq='15T'),\n",
              " Timestamp('2020-12-13 23:30:00', freq='15T'),\n",
              " Timestamp('2020-12-13 23:45:00', freq='15T'),\n",
              " Timestamp('2020-12-14 00:00:00', freq='15T'),\n",
              " Timestamp('2020-12-14 00:15:00', freq='15T'),\n",
              " Timestamp('2020-12-14 00:30:00', freq='15T'),\n",
              " Timestamp('2020-12-14 00:45:00', freq='15T'),\n",
              " Timestamp('2020-12-14 01:00:00', freq='15T'),\n",
              " Timestamp('2020-12-14 01:15:00', freq='15T'),\n",
              " Timestamp('2020-12-14 01:30:00', freq='15T'),\n",
              " Timestamp('2020-12-14 01:45:00', freq='15T'),\n",
              " Timestamp('2020-12-14 02:00:00', freq='15T'),\n",
              " Timestamp('2020-12-14 02:15:00', freq='15T'),\n",
              " Timestamp('2020-12-14 02:30:00', freq='15T'),\n",
              " Timestamp('2020-12-14 02:45:00', freq='15T'),\n",
              " Timestamp('2020-12-14 03:00:00', freq='15T'),\n",
              " Timestamp('2020-12-14 03:15:00', freq='15T'),\n",
              " Timestamp('2020-12-14 03:30:00', freq='15T'),\n",
              " Timestamp('2020-12-14 03:45:00', freq='15T'),\n",
              " Timestamp('2020-12-14 04:00:00', freq='15T'),\n",
              " Timestamp('2020-12-14 04:15:00', freq='15T'),\n",
              " Timestamp('2020-12-14 04:30:00', freq='15T'),\n",
              " Timestamp('2020-12-14 04:45:00', freq='15T'),\n",
              " Timestamp('2020-12-14 05:00:00', freq='15T'),\n",
              " Timestamp('2020-12-14 05:15:00', freq='15T'),\n",
              " Timestamp('2020-12-14 05:30:00', freq='15T'),\n",
              " Timestamp('2020-12-14 05:45:00', freq='15T'),\n",
              " Timestamp('2020-12-14 06:00:00', freq='15T'),\n",
              " Timestamp('2020-12-14 06:15:00', freq='15T'),\n",
              " Timestamp('2020-12-14 06:30:00', freq='15T'),\n",
              " Timestamp('2020-12-14 06:45:00', freq='15T'),\n",
              " Timestamp('2020-12-14 07:00:00', freq='15T'),\n",
              " Timestamp('2020-12-14 07:15:00', freq='15T'),\n",
              " Timestamp('2020-12-14 07:30:00', freq='15T'),\n",
              " Timestamp('2020-12-14 07:45:00', freq='15T'),\n",
              " Timestamp('2020-12-14 08:00:00', freq='15T'),\n",
              " Timestamp('2020-12-14 08:15:00', freq='15T'),\n",
              " Timestamp('2020-12-14 08:30:00', freq='15T'),\n",
              " Timestamp('2020-12-14 08:45:00', freq='15T'),\n",
              " Timestamp('2020-12-14 09:00:00', freq='15T'),\n",
              " Timestamp('2020-12-14 09:15:00', freq='15T'),\n",
              " Timestamp('2020-12-14 09:30:00', freq='15T'),\n",
              " Timestamp('2020-12-14 09:45:00', freq='15T'),\n",
              " Timestamp('2020-12-14 10:00:00', freq='15T'),\n",
              " Timestamp('2020-12-14 10:15:00', freq='15T'),\n",
              " Timestamp('2020-12-14 10:30:00', freq='15T'),\n",
              " Timestamp('2020-12-14 10:45:00', freq='15T'),\n",
              " Timestamp('2020-12-14 11:00:00', freq='15T'),\n",
              " Timestamp('2020-12-14 11:15:00', freq='15T'),\n",
              " Timestamp('2020-12-14 11:30:00', freq='15T'),\n",
              " Timestamp('2020-12-14 11:45:00', freq='15T'),\n",
              " Timestamp('2020-12-14 12:00:00', freq='15T'),\n",
              " Timestamp('2020-12-14 12:15:00', freq='15T'),\n",
              " Timestamp('2020-12-14 12:30:00', freq='15T'),\n",
              " Timestamp('2020-12-14 12:45:00', freq='15T'),\n",
              " Timestamp('2020-12-14 13:00:00', freq='15T'),\n",
              " Timestamp('2020-12-14 13:15:00', freq='15T'),\n",
              " Timestamp('2020-12-14 13:30:00', freq='15T'),\n",
              " Timestamp('2020-12-14 13:45:00', freq='15T'),\n",
              " Timestamp('2020-12-14 14:00:00', freq='15T'),\n",
              " Timestamp('2020-12-14 14:15:00', freq='15T'),\n",
              " Timestamp('2020-12-14 14:30:00', freq='15T'),\n",
              " Timestamp('2020-12-14 14:45:00', freq='15T'),\n",
              " Timestamp('2020-12-14 15:00:00', freq='15T'),\n",
              " Timestamp('2020-12-14 15:15:00', freq='15T'),\n",
              " Timestamp('2020-12-14 15:30:00', freq='15T'),\n",
              " Timestamp('2020-12-14 15:45:00', freq='15T'),\n",
              " Timestamp('2020-12-14 16:00:00', freq='15T'),\n",
              " Timestamp('2020-12-14 16:15:00', freq='15T'),\n",
              " Timestamp('2020-12-14 16:30:00', freq='15T'),\n",
              " Timestamp('2020-12-14 16:45:00', freq='15T'),\n",
              " Timestamp('2020-12-14 17:00:00', freq='15T'),\n",
              " Timestamp('2020-12-14 17:15:00', freq='15T'),\n",
              " Timestamp('2020-12-14 17:30:00', freq='15T'),\n",
              " Timestamp('2020-12-14 17:45:00', freq='15T'),\n",
              " Timestamp('2020-12-14 18:00:00', freq='15T'),\n",
              " Timestamp('2020-12-14 18:15:00', freq='15T'),\n",
              " Timestamp('2020-12-14 18:30:00', freq='15T'),\n",
              " Timestamp('2020-12-14 18:45:00', freq='15T'),\n",
              " Timestamp('2020-12-14 19:00:00', freq='15T'),\n",
              " Timestamp('2020-12-14 19:15:00', freq='15T'),\n",
              " Timestamp('2020-12-14 19:30:00', freq='15T'),\n",
              " Timestamp('2020-12-14 19:45:00', freq='15T'),\n",
              " Timestamp('2020-12-14 20:00:00', freq='15T'),\n",
              " Timestamp('2020-12-14 20:15:00', freq='15T'),\n",
              " Timestamp('2020-12-14 20:30:00', freq='15T'),\n",
              " Timestamp('2020-12-14 20:45:00', freq='15T'),\n",
              " Timestamp('2020-12-14 21:00:00', freq='15T'),\n",
              " Timestamp('2020-12-14 21:15:00', freq='15T'),\n",
              " Timestamp('2020-12-14 21:30:00', freq='15T'),\n",
              " Timestamp('2020-12-14 21:45:00', freq='15T'),\n",
              " Timestamp('2020-12-14 22:00:00', freq='15T'),\n",
              " Timestamp('2020-12-14 22:15:00', freq='15T'),\n",
              " Timestamp('2020-12-14 22:30:00', freq='15T'),\n",
              " Timestamp('2020-12-14 22:45:00', freq='15T'),\n",
              " Timestamp('2020-12-14 23:00:00', freq='15T'),\n",
              " Timestamp('2020-12-14 23:15:00', freq='15T'),\n",
              " Timestamp('2020-12-14 23:30:00', freq='15T'),\n",
              " Timestamp('2020-12-14 23:45:00', freq='15T'),\n",
              " Timestamp('2020-12-15 00:00:00', freq='15T')]"
            ]
          },
          "metadata": {},
          "execution_count": 45
        }
      ]
    },
    {
      "cell_type": "code",
      "source": [
        "len(forecast_period_dates)"
      ],
      "metadata": {
        "colab": {
          "base_uri": "https://localhost:8080/"
        },
        "id": "IrQFFvEDDXmc",
        "outputId": "6fe67a79-1b26-46da-d7c4-741aadc192f2"
      },
      "execution_count": null,
      "outputs": [
        {
          "output_type": "execute_result",
          "data": {
            "text/plain": [
              "194"
            ]
          },
          "metadata": {},
          "execution_count": 46
        }
      ]
    },
    {
      "cell_type": "code",
      "source": [
        "a = [1,2,3,4,5,6]\n",
        "f = a[-3:]\n",
        "print(f)"
      ],
      "metadata": {
        "colab": {
          "base_uri": "https://localhost:8080/"
        },
        "id": "ehjaF8cQbDLW",
        "outputId": "1176c6d8-ef55-442f-8856-d66769fcf9f9"
      },
      "execution_count": null,
      "outputs": [
        {
          "output_type": "stream",
          "name": "stdout",
          "text": [
            "[4, 5, 6]\n"
          ]
        }
      ]
    },
    {
      "cell_type": "code",
      "source": [
        "# Let's predict the values using our trained model\n",
        "forecast = model.predict(training_features[-n_future:])"
      ],
      "metadata": {
        "id": "MTp_rbGADdxA"
      },
      "execution_count": null,
      "outputs": []
    },
    {
      "cell_type": "code",
      "source": [
        "forecast"
      ],
      "metadata": {
        "colab": {
          "base_uri": "https://localhost:8080/"
        },
        "id": "pF8fCNd1DgU1",
        "outputId": "c1b8370b-4e8c-4501-e58d-392513d2507b"
      },
      "execution_count": null,
      "outputs": [
        {
          "output_type": "execute_result",
          "data": {
            "text/plain": [
              "array([[-1.2799437 ],\n",
              "       [-1.3442392 ],\n",
              "       [-1.3931675 ],\n",
              "       [-1.5042214 ],\n",
              "       [-1.5418186 ],\n",
              "       [-1.5189688 ],\n",
              "       [-1.5176382 ],\n",
              "       [-1.5500126 ],\n",
              "       [-1.5685148 ],\n",
              "       [-1.5742977 ],\n",
              "       [-1.5749991 ],\n",
              "       [-1.594099  ],\n",
              "       [-1.6120307 ],\n",
              "       [-1.5975561 ],\n",
              "       [-1.6045656 ],\n",
              "       [-1.6078022 ],\n",
              "       [-1.6001778 ],\n",
              "       [-1.596972  ],\n",
              "       [-1.5870152 ],\n",
              "       [-1.5639639 ],\n",
              "       [-1.5352182 ],\n",
              "       [-1.4870007 ],\n",
              "       [-1.4392023 ],\n",
              "       [-1.3652291 ],\n",
              "       [-1.2839854 ],\n",
              "       [-1.1966596 ],\n",
              "       [-1.1092954 ],\n",
              "       [-0.9646966 ],\n",
              "       [-0.8395514 ],\n",
              "       [-0.76866335],\n",
              "       [-0.71118635],\n",
              "       [-0.5995547 ],\n",
              "       [-0.4342578 ],\n",
              "       [-0.32114473],\n",
              "       [-0.2623946 ],\n",
              "       [-0.22218087],\n",
              "       [-0.18395072],\n",
              "       [-0.17705163],\n",
              "       [-0.20271862],\n",
              "       [-0.1656838 ],\n",
              "       [-0.15418664],\n",
              "       [-0.12915337],\n",
              "       [-0.06978518],\n",
              "       [-0.06698038],\n",
              "       [-0.05272606],\n",
              "       [-0.06584366],\n",
              "       [-0.09334409],\n",
              "       [-0.10613292],\n",
              "       [-0.12818217],\n",
              "       [-0.14514503],\n",
              "       [-0.17792174],\n",
              "       [-0.20997229],\n",
              "       [-0.20699999],\n",
              "       [-0.26347554],\n",
              "       [-0.33291823],\n",
              "       [-0.47138393],\n",
              "       [-0.54888296],\n",
              "       [-0.5279491 ],\n",
              "       [-0.56740654],\n",
              "       [-0.61111826],\n",
              "       [-0.6586136 ],\n",
              "       [-0.66316473],\n",
              "       [-0.68612665],\n",
              "       [-0.72213024],\n",
              "       [-0.7720788 ],\n",
              "       [-0.75648487],\n",
              "       [-0.7707508 ],\n",
              "       [-0.7582926 ],\n",
              "       [-0.725505  ],\n",
              "       [-0.6805889 ],\n",
              "       [-0.6683075 ],\n",
              "       [-0.6189005 ],\n",
              "       [-0.4947396 ],\n",
              "       [-0.3966998 ],\n",
              "       [-0.3707373 ],\n",
              "       [-0.38233638],\n",
              "       [-0.42611468],\n",
              "       [-0.4587921 ],\n",
              "       [-0.49446124],\n",
              "       [-0.52590054],\n",
              "       [-0.5696155 ],\n",
              "       [-0.63610715],\n",
              "       [-0.6568233 ],\n",
              "       [-0.6990525 ],\n",
              "       [-0.71420664],\n",
              "       [-0.7669466 ],\n",
              "       [-0.8258221 ],\n",
              "       [-0.90972036],\n",
              "       [-0.94444376],\n",
              "       [-0.9743549 ],\n",
              "       [-1.003746  ],\n",
              "       [-1.080028  ],\n",
              "       [-1.1552172 ],\n",
              "       [-1.2076516 ],\n",
              "       [-1.2070658 ],\n",
              "       [-1.284199  ],\n",
              "       [-1.335233  ],\n",
              "       [-1.4252379 ],\n",
              "       [-1.4565332 ],\n",
              "       [-1.4662728 ],\n",
              "       [-1.4795382 ],\n",
              "       [-1.5289779 ],\n",
              "       [-1.5694902 ],\n",
              "       [-1.589453  ],\n",
              "       [-1.5948601 ],\n",
              "       [-1.599051  ],\n",
              "       [-1.6087315 ],\n",
              "       [-1.6157241 ],\n",
              "       [-1.6185918 ],\n",
              "       [-1.6194599 ],\n",
              "       [-1.622556  ],\n",
              "       [-1.627717  ],\n",
              "       [-1.6331615 ],\n",
              "       [-1.6286082 ],\n",
              "       [-1.6292307 ],\n",
              "       [-1.5756505 ],\n",
              "       [-1.516516  ],\n",
              "       [-1.5073254 ],\n",
              "       [-1.4777226 ],\n",
              "       [-1.4034886 ],\n",
              "       [-1.327003  ],\n",
              "       [-1.2662644 ],\n",
              "       [-1.1841314 ],\n",
              "       [-1.061981  ],\n",
              "       [-0.9837405 ],\n",
              "       [-0.93454856],\n",
              "       [-0.8766648 ],\n",
              "       [-0.74601924],\n",
              "       [-0.6610788 ],\n",
              "       [-0.57312095],\n",
              "       [-0.49079627],\n",
              "       [-0.4757613 ],\n",
              "       [-0.43315345],\n",
              "       [-0.40288228],\n",
              "       [-0.39440042],\n",
              "       [-0.3191781 ],\n",
              "       [-0.26616073],\n",
              "       [-0.20917356],\n",
              "       [-0.16917568],\n",
              "       [-0.13986754],\n",
              "       [-0.14395481],\n",
              "       [-0.13899532],\n",
              "       [-0.11725506],\n",
              "       [-0.15234578],\n",
              "       [-0.16729617],\n",
              "       [-0.1984734 ],\n",
              "       [-0.2210868 ],\n",
              "       [-0.24920842],\n",
              "       [-0.31016243],\n",
              "       [-0.3269976 ],\n",
              "       [-0.3637529 ],\n",
              "       [-0.50651467],\n",
              "       [-0.58622754],\n",
              "       [-0.5946884 ],\n",
              "       [-0.5928951 ],\n",
              "       [-0.6128028 ],\n",
              "       [-0.6077086 ],\n",
              "       [-0.6581914 ],\n",
              "       [-0.7148488 ],\n",
              "       [-0.71905035],\n",
              "       [-0.7321952 ],\n",
              "       [-0.7795108 ],\n",
              "       [-0.74981433],\n",
              "       [-0.69442827],\n",
              "       [-0.68389183],\n",
              "       [-0.626949  ],\n",
              "       [-0.6276192 ],\n",
              "       [-0.6325149 ],\n",
              "       [-0.608397  ],\n",
              "       [-0.48329508],\n",
              "       [-0.4116673 ],\n",
              "       [-0.41445416],\n",
              "       [-0.42996103],\n",
              "       [-0.47235876],\n",
              "       [-0.5220916 ],\n",
              "       [-0.5719118 ],\n",
              "       [-0.5972802 ],\n",
              "       [-0.61495227],\n",
              "       [-0.6238179 ],\n",
              "       [-0.66494405],\n",
              "       [-0.74041754],\n",
              "       [-0.75806713],\n",
              "       [-0.79254264],\n",
              "       [-0.8521891 ],\n",
              "       [-0.9053989 ],\n",
              "       [-0.9739434 ],\n",
              "       [-1.0168748 ],\n",
              "       [-1.085465  ],\n",
              "       [-1.1173439 ],\n",
              "       [-1.1753128 ],\n",
              "       [-1.2564042 ],\n",
              "       [-1.3053381 ],\n",
              "       [-1.3404865 ],\n",
              "       [-1.4192102 ]], dtype=float32)"
            ]
          },
          "metadata": {},
          "execution_count": 49
        }
      ]
    },
    {
      "cell_type": "code",
      "source": [
        "len(forecast)"
      ],
      "metadata": {
        "colab": {
          "base_uri": "https://localhost:8080/"
        },
        "id": "F5vCSUPvDkCX",
        "outputId": "490a348e-e57f-4402-8670-d879fc7caab1"
      },
      "execution_count": null,
      "outputs": [
        {
          "output_type": "execute_result",
          "data": {
            "text/plain": [
              "194"
            ]
          },
          "metadata": {},
          "execution_count": 50
        }
      ]
    },
    {
      "cell_type": "code",
      "source": [
        "forecast_copy = np.repeat(\n",
        "    forecast,\n",
        "    df_for_training.shape[1],\n",
        "    axis = 1\n",
        ")"
      ],
      "metadata": {
        "id": "89XxhBrIDmpx"
      },
      "execution_count": null,
      "outputs": []
    },
    {
      "cell_type": "code",
      "source": [
        "# Here, we will be applying inverse transformation to our forecasted values to get the unnormalized predictions. \n",
        "y_pred_future = scaler.inverse_transform(forecast_copy)[:,0]"
      ],
      "metadata": {
        "id": "tiDdTcfcDpyl"
      },
      "execution_count": null,
      "outputs": []
    },
    {
      "cell_type": "code",
      "source": [
        "y_pred_future.shape"
      ],
      "metadata": {
        "colab": {
          "base_uri": "https://localhost:8080/"
        },
        "id": "UNm5K035DrFZ",
        "outputId": "f3d3e0cd-476e-4cd9-cb48-5195c6aff7d1"
      },
      "execution_count": null,
      "outputs": [
        {
          "output_type": "execute_result",
          "data": {
            "text/plain": [
              "(194,)"
            ]
          },
          "metadata": {},
          "execution_count": 53
        }
      ]
    },
    {
      "cell_type": "code",
      "source": [
        "forecast_dates = []\n",
        "for time_i in forecast_period_dates:\n",
        "  forecast_dates.append(time_i.timestamp())"
      ],
      "metadata": {
        "id": "3VXZZliVDyfX"
      },
      "execution_count": null,
      "outputs": []
    },
    {
      "cell_type": "code",
      "source": [
        "forecast_dates = pd.to_datetime(forecast_dates, unit = 's')"
      ],
      "metadata": {
        "id": "ZIFjLz_GD-iV"
      },
      "execution_count": null,
      "outputs": []
    },
    {
      "cell_type": "code",
      "source": [
        "forecast_dates"
      ],
      "metadata": {
        "colab": {
          "base_uri": "https://localhost:8080/"
        },
        "id": "G_bjiZzOD4H6",
        "outputId": "8b814378-6490-47e1-a90e-719d6d37ea72"
      },
      "execution_count": null,
      "outputs": [
        {
          "output_type": "execute_result",
          "data": {
            "text/plain": [
              "DatetimeIndex(['2020-12-12 23:45:00', '2020-12-13 00:00:00',\n",
              "               '2020-12-13 00:15:00', '2020-12-13 00:30:00',\n",
              "               '2020-12-13 00:45:00', '2020-12-13 01:00:00',\n",
              "               '2020-12-13 01:15:00', '2020-12-13 01:30:00',\n",
              "               '2020-12-13 01:45:00', '2020-12-13 02:00:00',\n",
              "               ...\n",
              "               '2020-12-14 21:45:00', '2020-12-14 22:00:00',\n",
              "               '2020-12-14 22:15:00', '2020-12-14 22:30:00',\n",
              "               '2020-12-14 22:45:00', '2020-12-14 23:00:00',\n",
              "               '2020-12-14 23:15:00', '2020-12-14 23:30:00',\n",
              "               '2020-12-14 23:45:00', '2020-12-15 00:00:00'],\n",
              "              dtype='datetime64[ns]', length=194, freq=None)"
            ]
          },
          "metadata": {},
          "execution_count": 56
        }
      ]
    },
    {
      "cell_type": "code",
      "source": [
        "forecast_dates = np.array(forecast_dates)\n",
        "forecast_dates.shape"
      ],
      "metadata": {
        "colab": {
          "base_uri": "https://localhost:8080/"
        },
        "id": "4gzJov3xD_Ot",
        "outputId": "c0b047cf-edc5-4fa0-9e53-b3da970fddea"
      },
      "execution_count": null,
      "outputs": [
        {
          "output_type": "execute_result",
          "data": {
            "text/plain": [
              "(194,)"
            ]
          },
          "metadata": {},
          "execution_count": 57
        }
      ]
    },
    {
      "cell_type": "code",
      "source": [
        "y_pred_future.shape"
      ],
      "metadata": {
        "colab": {
          "base_uri": "https://localhost:8080/"
        },
        "id": "ggJ9WCjgEElw",
        "outputId": "c02e34f5-935b-4f12-9912-dca973328602"
      },
      "execution_count": null,
      "outputs": [
        {
          "output_type": "execute_result",
          "data": {
            "text/plain": [
              "(194,)"
            ]
          },
          "metadata": {},
          "execution_count": 58
        }
      ]
    }
  ]
}